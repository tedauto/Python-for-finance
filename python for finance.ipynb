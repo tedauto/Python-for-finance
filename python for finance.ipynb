{
 "cells": [
  {
   "cell_type": "markdown",
   "metadata": {},
   "source": [
    "# Numpy"
   ]
  },
  {
   "cell_type": "code",
   "execution_count": 55,
   "metadata": {},
   "outputs": [],
   "source": [
    "import numpy as np"
   ]
  },
  {
   "cell_type": "code",
   "execution_count": 56,
   "metadata": {},
   "outputs": [
    {
     "data": {
      "text/plain": [
       "array([1., 1., 1., 1., 1., 1., 1., 1., 1., 1.])"
      ]
     },
     "execution_count": 56,
     "metadata": {},
     "output_type": "execute_result"
    }
   ],
   "source": [
    "np.ones(10)"
   ]
  },
  {
   "cell_type": "code",
   "execution_count": 57,
   "metadata": {},
   "outputs": [
    {
     "data": {
      "text/plain": [
       "array([0., 0., 0., 0., 0., 0., 0., 0., 0., 0.])"
      ]
     },
     "execution_count": 57,
     "metadata": {},
     "output_type": "execute_result"
    }
   ],
   "source": [
    "np.zeros(10)"
   ]
  },
  {
   "cell_type": "code",
   "execution_count": 58,
   "metadata": {},
   "outputs": [
    {
     "data": {
      "text/plain": [
       "array([6., 6., 6., 6., 6., 6., 6., 6., 6., 6.])"
      ]
     },
     "execution_count": 58,
     "metadata": {},
     "output_type": "execute_result"
    }
   ],
   "source": [
    "np.ones(10)*6"
   ]
  },
  {
   "cell_type": "code",
   "execution_count": 59,
   "metadata": {
    "scrolled": true
   },
   "outputs": [
    {
     "data": {
      "text/plain": [
       "array([[ 1,  2,  3,  4,  5],\n",
       "       [ 6,  7,  8,  9, 10],\n",
       "       [11, 12, 13, 14, 15],\n",
       "       [16, 17, 18, 19, 20],\n",
       "       [21, 22, 23, 24, 25]])"
      ]
     },
     "execution_count": 59,
     "metadata": {},
     "output_type": "execute_result"
    }
   ],
   "source": [
    "mat=np.arange(1,26).reshape(5,5)\n",
    "mat"
   ]
  },
  {
   "cell_type": "code",
   "execution_count": 60,
   "metadata": {},
   "outputs": [
    {
     "data": {
      "text/plain": [
       "18"
      ]
     },
     "execution_count": 60,
     "metadata": {},
     "output_type": "execute_result"
    }
   ],
   "source": [
    "mat[3,2]"
   ]
  },
  {
   "cell_type": "code",
   "execution_count": 61,
   "metadata": {},
   "outputs": [
    {
     "data": {
      "text/plain": [
       "array([[16, 17, 18, 19, 20],\n",
       "       [21, 22, 23, 24, 25]])"
      ]
     },
     "execution_count": 61,
     "metadata": {},
     "output_type": "execute_result"
    }
   ],
   "source": [
    "mat[3:,:]"
   ]
  },
  {
   "cell_type": "code",
   "execution_count": 62,
   "metadata": {},
   "outputs": [
    {
     "data": {
      "text/plain": [
       "array([[ 1],\n",
       "       [ 6],\n",
       "       [11],\n",
       "       [16],\n",
       "       [21]])"
      ]
     },
     "execution_count": 62,
     "metadata": {},
     "output_type": "execute_result"
    }
   ],
   "source": [
    "mat[:,:1]"
   ]
  },
  {
   "cell_type": "code",
   "execution_count": 63,
   "metadata": {},
   "outputs": [
    {
     "data": {
      "text/plain": [
       "array([11, 12])"
      ]
     },
     "execution_count": 63,
     "metadata": {},
     "output_type": "execute_result"
    }
   ],
   "source": [
    "mat[2,:2]"
   ]
  },
  {
   "cell_type": "code",
   "execution_count": 64,
   "metadata": {},
   "outputs": [
    {
     "data": {
      "text/plain": [
       "array([-0.92043021])"
      ]
     },
     "execution_count": 64,
     "metadata": {},
     "output_type": "execute_result"
    }
   ],
   "source": [
    "np.random.randn(1)"
   ]
  },
  {
   "cell_type": "code",
   "execution_count": 65,
   "metadata": {},
   "outputs": [
    {
     "data": {
      "text/plain": [
       "1"
      ]
     },
     "execution_count": 65,
     "metadata": {},
     "output_type": "execute_result"
    }
   ],
   "source": [
    "\n",
    "np.random.randint(10)"
   ]
  },
  {
   "cell_type": "code",
   "execution_count": 66,
   "metadata": {},
   "outputs": [
    {
     "data": {
      "text/plain": [
       "array([55, 60, 65, 70, 75])"
      ]
     },
     "execution_count": 66,
     "metadata": {},
     "output_type": "execute_result"
    }
   ],
   "source": [
    "mat.sum(axis=0) #sum along the rows "
   ]
  },
  {
   "cell_type": "code",
   "execution_count": 67,
   "metadata": {},
   "outputs": [
    {
     "data": {
      "text/plain": [
       "array([ 15,  40,  65,  90, 115])"
      ]
     },
     "execution_count": 67,
     "metadata": {},
     "output_type": "execute_result"
    }
   ],
   "source": [
    "mat.sum(axis=1) #sum along the columns"
   ]
  },
  {
   "cell_type": "code",
   "execution_count": 68,
   "metadata": {},
   "outputs": [
    {
     "data": {
      "text/plain": [
       "(5, 5)"
      ]
     },
     "execution_count": 68,
     "metadata": {},
     "output_type": "execute_result"
    }
   ],
   "source": [
    "mat.shape #thats why the  index axis is 0 for rows and 1 for columns "
   ]
  },
  {
   "cell_type": "code",
   "execution_count": 69,
   "metadata": {},
   "outputs": [
    {
     "data": {
      "text/plain": [
       "array([0.        , 0.05263158, 0.10526316, 0.15789474, 0.21052632,\n",
       "       0.26315789, 0.31578947, 0.36842105, 0.42105263, 0.47368421,\n",
       "       0.52631579, 0.57894737, 0.63157895, 0.68421053, 0.73684211,\n",
       "       0.78947368, 0.84210526, 0.89473684, 0.94736842, 1.        ])"
      ]
     },
     "execution_count": 69,
     "metadata": {},
     "output_type": "execute_result"
    }
   ],
   "source": [
    "np.linspace(0,1,20)"
   ]
  },
  {
   "cell_type": "code",
   "execution_count": 70,
   "metadata": {},
   "outputs": [
    {
     "data": {
      "text/plain": [
       "array([ 1,  2,  3,  4,  5,  6,  7,  8,  9, 10])"
      ]
     },
     "execution_count": 70,
     "metadata": {},
     "output_type": "execute_result"
    }
   ],
   "source": [
    "np.arange(1,11)"
   ]
  },
  {
   "cell_type": "markdown",
   "metadata": {},
   "source": [
    "# Pandas"
   ]
  },
  {
   "cell_type": "code",
   "execution_count": 71,
   "metadata": {},
   "outputs": [],
   "source": [
    "import numpy as np \n",
    "import pandas as pd "
   ]
  },
  {
   "cell_type": "code",
   "execution_count": 72,
   "metadata": {},
   "outputs": [],
   "source": [
    "#series "
   ]
  },
  {
   "cell_type": "code",
   "execution_count": 73,
   "metadata": {},
   "outputs": [],
   "source": [
    "labels = [\"a\",\"b\",\"c\"]\n",
    "my_list =[20,30,40]\n",
    "arr = np.array([10,20,30])\n",
    "d = {\"a\":50,\"b\":100,\"c\":150}\n"
   ]
  },
  {
   "cell_type": "code",
   "execution_count": 74,
   "metadata": {},
   "outputs": [
    {
     "data": {
      "text/plain": [
       "a    20\n",
       "b    30\n",
       "c    40\n",
       "dtype: int64"
      ]
     },
     "execution_count": 74,
     "metadata": {},
     "output_type": "execute_result"
    }
   ],
   "source": [
    "pd.Series(my_list,labels)"
   ]
  },
  {
   "cell_type": "code",
   "execution_count": 75,
   "metadata": {},
   "outputs": [
    {
     "data": {
      "text/plain": [
       "a     50\n",
       "b    100\n",
       "c    150\n",
       "dtype: int64"
      ]
     },
     "execution_count": 75,
     "metadata": {},
     "output_type": "execute_result"
    }
   ],
   "source": [
    "pd.Series(d)"
   ]
  },
  {
   "cell_type": "code",
   "execution_count": 76,
   "metadata": {},
   "outputs": [
    {
     "data": {
      "text/plain": [
       "1    a\n",
       "2    b\n",
       "3    c\n",
       "4    d\n",
       "5    e\n",
       "dtype: object"
      ]
     },
     "execution_count": 76,
     "metadata": {},
     "output_type": "execute_result"
    }
   ],
   "source": [
    "ser1 = pd.Series([\"a\",\"b\",\"c\",\"d\",\"e\"],index=[1,2,3,4,5])\n",
    "ser1"
   ]
  },
  {
   "cell_type": "markdown",
   "metadata": {},
   "source": [
    "## Dataframes"
   ]
  },
  {
   "cell_type": "code",
   "execution_count": 77,
   "metadata": {},
   "outputs": [],
   "source": [
    "from  numpy.random import randn"
   ]
  },
  {
   "cell_type": "code",
   "execution_count": 78,
   "metadata": {},
   "outputs": [],
   "source": [
    "np.random.seed(101)"
   ]
  },
  {
   "cell_type": "code",
   "execution_count": 79,
   "metadata": {},
   "outputs": [],
   "source": [
    "df= pd.DataFrame(randn(5,4),[\"A\",\"B\",\"C\",\"D\",\"E\"],[\"W\",\"X\",\"Y\",\"Z\"])\n",
    "                                                   "
   ]
  },
  {
   "cell_type": "code",
   "execution_count": 80,
   "metadata": {},
   "outputs": [
    {
     "data": {
      "text/html": [
       "<div>\n",
       "<style scoped>\n",
       "    .dataframe tbody tr th:only-of-type {\n",
       "        vertical-align: middle;\n",
       "    }\n",
       "\n",
       "    .dataframe tbody tr th {\n",
       "        vertical-align: top;\n",
       "    }\n",
       "\n",
       "    .dataframe thead th {\n",
       "        text-align: right;\n",
       "    }\n",
       "</style>\n",
       "<table border=\"1\" class=\"dataframe\">\n",
       "  <thead>\n",
       "    <tr style=\"text-align: right;\">\n",
       "      <th></th>\n",
       "      <th>W</th>\n",
       "      <th>X</th>\n",
       "      <th>Y</th>\n",
       "      <th>Z</th>\n",
       "    </tr>\n",
       "  </thead>\n",
       "  <tbody>\n",
       "    <tr>\n",
       "      <th>A</th>\n",
       "      <td>2.706850</td>\n",
       "      <td>0.628133</td>\n",
       "      <td>0.907969</td>\n",
       "      <td>0.503826</td>\n",
       "    </tr>\n",
       "    <tr>\n",
       "      <th>B</th>\n",
       "      <td>0.651118</td>\n",
       "      <td>-0.319318</td>\n",
       "      <td>-0.848077</td>\n",
       "      <td>0.605965</td>\n",
       "    </tr>\n",
       "    <tr>\n",
       "      <th>C</th>\n",
       "      <td>-2.018168</td>\n",
       "      <td>0.740122</td>\n",
       "      <td>0.528813</td>\n",
       "      <td>-0.589001</td>\n",
       "    </tr>\n",
       "    <tr>\n",
       "      <th>D</th>\n",
       "      <td>0.188695</td>\n",
       "      <td>-0.758872</td>\n",
       "      <td>-0.933237</td>\n",
       "      <td>0.955057</td>\n",
       "    </tr>\n",
       "    <tr>\n",
       "      <th>E</th>\n",
       "      <td>0.190794</td>\n",
       "      <td>1.978757</td>\n",
       "      <td>2.605967</td>\n",
       "      <td>0.683509</td>\n",
       "    </tr>\n",
       "  </tbody>\n",
       "</table>\n",
       "</div>"
      ],
      "text/plain": [
       "          W         X         Y         Z\n",
       "A  2.706850  0.628133  0.907969  0.503826\n",
       "B  0.651118 -0.319318 -0.848077  0.605965\n",
       "C -2.018168  0.740122  0.528813 -0.589001\n",
       "D  0.188695 -0.758872 -0.933237  0.955057\n",
       "E  0.190794  1.978757  2.605967  0.683509"
      ]
     },
     "execution_count": 80,
     "metadata": {},
     "output_type": "execute_result"
    }
   ],
   "source": [
    "df"
   ]
  },
  {
   "cell_type": "code",
   "execution_count": 81,
   "metadata": {},
   "outputs": [
    {
     "data": {
      "text/plain": [
       "A    0.907969\n",
       "B   -0.848077\n",
       "C    0.528813\n",
       "D   -0.933237\n",
       "E    2.605967\n",
       "Name: Y, dtype: float64"
      ]
     },
     "execution_count": 81,
     "metadata": {},
     "output_type": "execute_result"
    }
   ],
   "source": [
    "df[\"Y\"] #you get a series"
   ]
  },
  {
   "cell_type": "code",
   "execution_count": 82,
   "metadata": {},
   "outputs": [
    {
     "data": {
      "text/plain": [
       "pandas.core.series.Series"
      ]
     },
     "execution_count": 82,
     "metadata": {},
     "output_type": "execute_result"
    }
   ],
   "source": [
    "type(df[\"Y\"])"
   ]
  },
  {
   "cell_type": "code",
   "execution_count": 83,
   "metadata": {},
   "outputs": [
    {
     "data": {
      "text/plain": [
       "pandas.core.frame.DataFrame"
      ]
     },
     "execution_count": 83,
     "metadata": {},
     "output_type": "execute_result"
    }
   ],
   "source": [
    "type(df)"
   ]
  },
  {
   "cell_type": "markdown",
   "metadata": {},
   "source": [
    "A dataframe is a bunch of series that share the same index."
   ]
  },
  {
   "cell_type": "code",
   "execution_count": 84,
   "metadata": {},
   "outputs": [
    {
     "data": {
      "text/html": [
       "<div>\n",
       "<style scoped>\n",
       "    .dataframe tbody tr th:only-of-type {\n",
       "        vertical-align: middle;\n",
       "    }\n",
       "\n",
       "    .dataframe tbody tr th {\n",
       "        vertical-align: top;\n",
       "    }\n",
       "\n",
       "    .dataframe thead th {\n",
       "        text-align: right;\n",
       "    }\n",
       "</style>\n",
       "<table border=\"1\" class=\"dataframe\">\n",
       "  <thead>\n",
       "    <tr style=\"text-align: right;\">\n",
       "      <th></th>\n",
       "      <th>W</th>\n",
       "      <th>Y</th>\n",
       "    </tr>\n",
       "  </thead>\n",
       "  <tbody>\n",
       "    <tr>\n",
       "      <th>A</th>\n",
       "      <td>2.706850</td>\n",
       "      <td>0.907969</td>\n",
       "    </tr>\n",
       "    <tr>\n",
       "      <th>B</th>\n",
       "      <td>0.651118</td>\n",
       "      <td>-0.848077</td>\n",
       "    </tr>\n",
       "    <tr>\n",
       "      <th>C</th>\n",
       "      <td>-2.018168</td>\n",
       "      <td>0.528813</td>\n",
       "    </tr>\n",
       "    <tr>\n",
       "      <th>D</th>\n",
       "      <td>0.188695</td>\n",
       "      <td>-0.933237</td>\n",
       "    </tr>\n",
       "    <tr>\n",
       "      <th>E</th>\n",
       "      <td>0.190794</td>\n",
       "      <td>2.605967</td>\n",
       "    </tr>\n",
       "  </tbody>\n",
       "</table>\n",
       "</div>"
      ],
      "text/plain": [
       "          W         Y\n",
       "A  2.706850  0.907969\n",
       "B  0.651118 -0.848077\n",
       "C -2.018168  0.528813\n",
       "D  0.188695 -0.933237\n",
       "E  0.190794  2.605967"
      ]
     },
     "execution_count": 84,
     "metadata": {},
     "output_type": "execute_result"
    }
   ],
   "source": [
    "# Selecting columns\n",
    "# when you want multiple columns you get a dataframe\n",
    "\n",
    "df[[\"W\",\"Y\"]] "
   ]
  },
  {
   "cell_type": "code",
   "execution_count": 85,
   "metadata": {},
   "outputs": [],
   "source": [
    "df[\"new\"]= df[\"W\"] + df[\"Z\"]"
   ]
  },
  {
   "cell_type": "code",
   "execution_count": 86,
   "metadata": {},
   "outputs": [
    {
     "data": {
      "text/html": [
       "<div>\n",
       "<style scoped>\n",
       "    .dataframe tbody tr th:only-of-type {\n",
       "        vertical-align: middle;\n",
       "    }\n",
       "\n",
       "    .dataframe tbody tr th {\n",
       "        vertical-align: top;\n",
       "    }\n",
       "\n",
       "    .dataframe thead th {\n",
       "        text-align: right;\n",
       "    }\n",
       "</style>\n",
       "<table border=\"1\" class=\"dataframe\">\n",
       "  <thead>\n",
       "    <tr style=\"text-align: right;\">\n",
       "      <th></th>\n",
       "      <th>W</th>\n",
       "      <th>X</th>\n",
       "      <th>Y</th>\n",
       "      <th>Z</th>\n",
       "      <th>new</th>\n",
       "    </tr>\n",
       "  </thead>\n",
       "  <tbody>\n",
       "    <tr>\n",
       "      <th>A</th>\n",
       "      <td>2.706850</td>\n",
       "      <td>0.628133</td>\n",
       "      <td>0.907969</td>\n",
       "      <td>0.503826</td>\n",
       "      <td>3.210676</td>\n",
       "    </tr>\n",
       "    <tr>\n",
       "      <th>B</th>\n",
       "      <td>0.651118</td>\n",
       "      <td>-0.319318</td>\n",
       "      <td>-0.848077</td>\n",
       "      <td>0.605965</td>\n",
       "      <td>1.257083</td>\n",
       "    </tr>\n",
       "    <tr>\n",
       "      <th>C</th>\n",
       "      <td>-2.018168</td>\n",
       "      <td>0.740122</td>\n",
       "      <td>0.528813</td>\n",
       "      <td>-0.589001</td>\n",
       "      <td>-2.607169</td>\n",
       "    </tr>\n",
       "    <tr>\n",
       "      <th>D</th>\n",
       "      <td>0.188695</td>\n",
       "      <td>-0.758872</td>\n",
       "      <td>-0.933237</td>\n",
       "      <td>0.955057</td>\n",
       "      <td>1.143752</td>\n",
       "    </tr>\n",
       "    <tr>\n",
       "      <th>E</th>\n",
       "      <td>0.190794</td>\n",
       "      <td>1.978757</td>\n",
       "      <td>2.605967</td>\n",
       "      <td>0.683509</td>\n",
       "      <td>0.874303</td>\n",
       "    </tr>\n",
       "  </tbody>\n",
       "</table>\n",
       "</div>"
      ],
      "text/plain": [
       "          W         X         Y         Z       new\n",
       "A  2.706850  0.628133  0.907969  0.503826  3.210676\n",
       "B  0.651118 -0.319318 -0.848077  0.605965  1.257083\n",
       "C -2.018168  0.740122  0.528813 -0.589001 -2.607169\n",
       "D  0.188695 -0.758872 -0.933237  0.955057  1.143752\n",
       "E  0.190794  1.978757  2.605967  0.683509  0.874303"
      ]
     },
     "execution_count": 86,
     "metadata": {},
     "output_type": "execute_result"
    }
   ],
   "source": [
    "df"
   ]
  },
  {
   "cell_type": "code",
   "execution_count": 87,
   "metadata": {},
   "outputs": [
    {
     "data": {
      "text/html": [
       "<div>\n",
       "<style scoped>\n",
       "    .dataframe tbody tr th:only-of-type {\n",
       "        vertical-align: middle;\n",
       "    }\n",
       "\n",
       "    .dataframe tbody tr th {\n",
       "        vertical-align: top;\n",
       "    }\n",
       "\n",
       "    .dataframe thead th {\n",
       "        text-align: right;\n",
       "    }\n",
       "</style>\n",
       "<table border=\"1\" class=\"dataframe\">\n",
       "  <thead>\n",
       "    <tr style=\"text-align: right;\">\n",
       "      <th></th>\n",
       "      <th>W</th>\n",
       "      <th>X</th>\n",
       "      <th>Y</th>\n",
       "      <th>Z</th>\n",
       "    </tr>\n",
       "  </thead>\n",
       "  <tbody>\n",
       "    <tr>\n",
       "      <th>A</th>\n",
       "      <td>2.706850</td>\n",
       "      <td>0.628133</td>\n",
       "      <td>0.907969</td>\n",
       "      <td>0.503826</td>\n",
       "    </tr>\n",
       "    <tr>\n",
       "      <th>B</th>\n",
       "      <td>0.651118</td>\n",
       "      <td>-0.319318</td>\n",
       "      <td>-0.848077</td>\n",
       "      <td>0.605965</td>\n",
       "    </tr>\n",
       "    <tr>\n",
       "      <th>C</th>\n",
       "      <td>-2.018168</td>\n",
       "      <td>0.740122</td>\n",
       "      <td>0.528813</td>\n",
       "      <td>-0.589001</td>\n",
       "    </tr>\n",
       "    <tr>\n",
       "      <th>D</th>\n",
       "      <td>0.188695</td>\n",
       "      <td>-0.758872</td>\n",
       "      <td>-0.933237</td>\n",
       "      <td>0.955057</td>\n",
       "    </tr>\n",
       "    <tr>\n",
       "      <th>E</th>\n",
       "      <td>0.190794</td>\n",
       "      <td>1.978757</td>\n",
       "      <td>2.605967</td>\n",
       "      <td>0.683509</td>\n",
       "    </tr>\n",
       "  </tbody>\n",
       "</table>\n",
       "</div>"
      ],
      "text/plain": [
       "          W         X         Y         Z\n",
       "A  2.706850  0.628133  0.907969  0.503826\n",
       "B  0.651118 -0.319318 -0.848077  0.605965\n",
       "C -2.018168  0.740122  0.528813 -0.589001\n",
       "D  0.188695 -0.758872 -0.933237  0.955057\n",
       "E  0.190794  1.978757  2.605967  0.683509"
      ]
     },
     "execution_count": 87,
     "metadata": {},
     "output_type": "execute_result"
    }
   ],
   "source": [
    "df.drop('new',axis=1)"
   ]
  },
  {
   "cell_type": "code",
   "execution_count": 88,
   "metadata": {},
   "outputs": [],
   "source": [
    "# To permanetly make changes to the dataframe use inplace = true\n",
    "df.drop('new',axis=1,inplace= True)"
   ]
  },
  {
   "cell_type": "code",
   "execution_count": 89,
   "metadata": {},
   "outputs": [
    {
     "data": {
      "text/html": [
       "<div>\n",
       "<style scoped>\n",
       "    .dataframe tbody tr th:only-of-type {\n",
       "        vertical-align: middle;\n",
       "    }\n",
       "\n",
       "    .dataframe tbody tr th {\n",
       "        vertical-align: top;\n",
       "    }\n",
       "\n",
       "    .dataframe thead th {\n",
       "        text-align: right;\n",
       "    }\n",
       "</style>\n",
       "<table border=\"1\" class=\"dataframe\">\n",
       "  <thead>\n",
       "    <tr style=\"text-align: right;\">\n",
       "      <th></th>\n",
       "      <th>W</th>\n",
       "      <th>X</th>\n",
       "      <th>Y</th>\n",
       "      <th>Z</th>\n",
       "    </tr>\n",
       "  </thead>\n",
       "  <tbody>\n",
       "    <tr>\n",
       "      <th>A</th>\n",
       "      <td>2.706850</td>\n",
       "      <td>0.628133</td>\n",
       "      <td>0.907969</td>\n",
       "      <td>0.503826</td>\n",
       "    </tr>\n",
       "    <tr>\n",
       "      <th>B</th>\n",
       "      <td>0.651118</td>\n",
       "      <td>-0.319318</td>\n",
       "      <td>-0.848077</td>\n",
       "      <td>0.605965</td>\n",
       "    </tr>\n",
       "    <tr>\n",
       "      <th>C</th>\n",
       "      <td>-2.018168</td>\n",
       "      <td>0.740122</td>\n",
       "      <td>0.528813</td>\n",
       "      <td>-0.589001</td>\n",
       "    </tr>\n",
       "    <tr>\n",
       "      <th>D</th>\n",
       "      <td>0.188695</td>\n",
       "      <td>-0.758872</td>\n",
       "      <td>-0.933237</td>\n",
       "      <td>0.955057</td>\n",
       "    </tr>\n",
       "    <tr>\n",
       "      <th>E</th>\n",
       "      <td>0.190794</td>\n",
       "      <td>1.978757</td>\n",
       "      <td>2.605967</td>\n",
       "      <td>0.683509</td>\n",
       "    </tr>\n",
       "  </tbody>\n",
       "</table>\n",
       "</div>"
      ],
      "text/plain": [
       "          W         X         Y         Z\n",
       "A  2.706850  0.628133  0.907969  0.503826\n",
       "B  0.651118 -0.319318 -0.848077  0.605965\n",
       "C -2.018168  0.740122  0.528813 -0.589001\n",
       "D  0.188695 -0.758872 -0.933237  0.955057\n",
       "E  0.190794  1.978757  2.605967  0.683509"
      ]
     },
     "execution_count": 89,
     "metadata": {},
     "output_type": "execute_result"
    }
   ],
   "source": [
    "df"
   ]
  },
  {
   "cell_type": "code",
   "execution_count": 90,
   "metadata": {},
   "outputs": [
    {
     "data": {
      "text/html": [
       "<div>\n",
       "<style scoped>\n",
       "    .dataframe tbody tr th:only-of-type {\n",
       "        vertical-align: middle;\n",
       "    }\n",
       "\n",
       "    .dataframe tbody tr th {\n",
       "        vertical-align: top;\n",
       "    }\n",
       "\n",
       "    .dataframe thead th {\n",
       "        text-align: right;\n",
       "    }\n",
       "</style>\n",
       "<table border=\"1\" class=\"dataframe\">\n",
       "  <thead>\n",
       "    <tr style=\"text-align: right;\">\n",
       "      <th></th>\n",
       "      <th>W</th>\n",
       "      <th>X</th>\n",
       "      <th>Y</th>\n",
       "      <th>Z</th>\n",
       "    </tr>\n",
       "  </thead>\n",
       "  <tbody>\n",
       "    <tr>\n",
       "      <th>A</th>\n",
       "      <td>2.706850</td>\n",
       "      <td>0.628133</td>\n",
       "      <td>0.907969</td>\n",
       "      <td>0.503826</td>\n",
       "    </tr>\n",
       "    <tr>\n",
       "      <th>B</th>\n",
       "      <td>0.651118</td>\n",
       "      <td>-0.319318</td>\n",
       "      <td>-0.848077</td>\n",
       "      <td>0.605965</td>\n",
       "    </tr>\n",
       "    <tr>\n",
       "      <th>C</th>\n",
       "      <td>-2.018168</td>\n",
       "      <td>0.740122</td>\n",
       "      <td>0.528813</td>\n",
       "      <td>-0.589001</td>\n",
       "    </tr>\n",
       "    <tr>\n",
       "      <th>E</th>\n",
       "      <td>0.190794</td>\n",
       "      <td>1.978757</td>\n",
       "      <td>2.605967</td>\n",
       "      <td>0.683509</td>\n",
       "    </tr>\n",
       "  </tbody>\n",
       "</table>\n",
       "</div>"
      ],
      "text/plain": [
       "          W         X         Y         Z\n",
       "A  2.706850  0.628133  0.907969  0.503826\n",
       "B  0.651118 -0.319318 -0.848077  0.605965\n",
       "C -2.018168  0.740122  0.528813 -0.589001\n",
       "E  0.190794  1.978757  2.605967  0.683509"
      ]
     },
     "execution_count": 90,
     "metadata": {},
     "output_type": "execute_result"
    }
   ],
   "source": [
    "# drop rows\n",
    "df.drop(\"D\",axis=0)"
   ]
  },
  {
   "cell_type": "code",
   "execution_count": 91,
   "metadata": {},
   "outputs": [
    {
     "data": {
      "text/plain": [
       "(5, 4)"
      ]
     },
     "execution_count": 91,
     "metadata": {},
     "output_type": "execute_result"
    }
   ],
   "source": [
    "df.shape"
   ]
  },
  {
   "cell_type": "code",
   "execution_count": 92,
   "metadata": {},
   "outputs": [
    {
     "data": {
      "text/plain": [
       "W    0.651118\n",
       "X   -0.319318\n",
       "Y   -0.848077\n",
       "Z    0.605965\n",
       "Name: B, dtype: float64"
      ]
     },
     "execution_count": 92,
     "metadata": {},
     "output_type": "execute_result"
    }
   ],
   "source": [
    "# Selecting rows 1st way based on labelled index\n",
    "df.loc[\"B\"]"
   ]
  },
  {
   "cell_type": "code",
   "execution_count": 93,
   "metadata": {},
   "outputs": [
    {
     "data": {
      "text/plain": [
       "W    0.651118\n",
       "X   -0.319318\n",
       "Y   -0.848077\n",
       "Z    0.605965\n",
       "Name: B, dtype: float64"
      ]
     },
     "execution_count": 93,
     "metadata": {},
     "output_type": "execute_result"
    }
   ],
   "source": [
    "# 2nd way which is based on numerical index pos\n",
    "df.iloc[1]"
   ]
  },
  {
   "cell_type": "code",
   "execution_count": 94,
   "metadata": {},
   "outputs": [
    {
     "data": {
      "text/plain": [
       "0.5038257538223936"
      ]
     },
     "execution_count": 94,
     "metadata": {},
     "output_type": "execute_result"
    }
   ],
   "source": [
    "# subsets of the dataframe\n",
    "df.loc[\"A\",\"Z\"]"
   ]
  },
  {
   "cell_type": "code",
   "execution_count": 1,
   "metadata": {},
   "outputs": [
    {
     "ename": "NameError",
     "evalue": "name 'df' is not defined",
     "output_type": "error",
     "traceback": [
      "\u001b[1;31m---------------------------------------------------------------------------\u001b[0m",
      "\u001b[1;31mNameError\u001b[0m                                 Traceback (most recent call last)",
      "\u001b[1;32m<ipython-input-1-a4000e0b9364>\u001b[0m in \u001b[0;36m<module>\u001b[1;34m\u001b[0m\n\u001b[1;32m----> 1\u001b[1;33m \u001b[0mdf\u001b[0m\u001b[1;33m.\u001b[0m\u001b[0miloc\u001b[0m\u001b[1;33m[\u001b[0m\u001b[1;33m[\u001b[0m\u001b[1;36m1\u001b[0m\u001b[1;33m,\u001b[0m\u001b[1;36m2\u001b[0m\u001b[1;33m]\u001b[0m\u001b[1;33m,\u001b[0m\u001b[1;33m[\u001b[0m\u001b[1;36m1\u001b[0m\u001b[1;33m,\u001b[0m\u001b[1;36m2\u001b[0m\u001b[1;33m]\u001b[0m\u001b[1;33m]\u001b[0m\u001b[1;33m\u001b[0m\u001b[1;33m\u001b[0m\u001b[0m\n\u001b[0m",
      "\u001b[1;31mNameError\u001b[0m: name 'df' is not defined"
     ]
    }
   ],
   "source": [
    "df.iloc[[1,2],[1,2]]"
   ]
  },
  {
   "cell_type": "code",
   "execution_count": 96,
   "metadata": {},
   "outputs": [
    {
     "data": {
      "text/html": [
       "<div>\n",
       "<style scoped>\n",
       "    .dataframe tbody tr th:only-of-type {\n",
       "        vertical-align: middle;\n",
       "    }\n",
       "\n",
       "    .dataframe tbody tr th {\n",
       "        vertical-align: top;\n",
       "    }\n",
       "\n",
       "    .dataframe thead th {\n",
       "        text-align: right;\n",
       "    }\n",
       "</style>\n",
       "<table border=\"1\" class=\"dataframe\">\n",
       "  <thead>\n",
       "    <tr style=\"text-align: right;\">\n",
       "      <th></th>\n",
       "      <th>W</th>\n",
       "      <th>X</th>\n",
       "      <th>Y</th>\n",
       "      <th>Z</th>\n",
       "    </tr>\n",
       "  </thead>\n",
       "  <tbody>\n",
       "    <tr>\n",
       "      <th>A</th>\n",
       "      <td>2.706850</td>\n",
       "      <td>0.628133</td>\n",
       "      <td>0.907969</td>\n",
       "      <td>0.503826</td>\n",
       "    </tr>\n",
       "    <tr>\n",
       "      <th>B</th>\n",
       "      <td>0.651118</td>\n",
       "      <td>NaN</td>\n",
       "      <td>NaN</td>\n",
       "      <td>0.605965</td>\n",
       "    </tr>\n",
       "    <tr>\n",
       "      <th>C</th>\n",
       "      <td>NaN</td>\n",
       "      <td>0.740122</td>\n",
       "      <td>0.528813</td>\n",
       "      <td>NaN</td>\n",
       "    </tr>\n",
       "    <tr>\n",
       "      <th>D</th>\n",
       "      <td>0.188695</td>\n",
       "      <td>NaN</td>\n",
       "      <td>NaN</td>\n",
       "      <td>0.955057</td>\n",
       "    </tr>\n",
       "    <tr>\n",
       "      <th>E</th>\n",
       "      <td>0.190794</td>\n",
       "      <td>1.978757</td>\n",
       "      <td>2.605967</td>\n",
       "      <td>0.683509</td>\n",
       "    </tr>\n",
       "  </tbody>\n",
       "</table>\n",
       "</div>"
      ],
      "text/plain": [
       "          W         X         Y         Z\n",
       "A  2.706850  0.628133  0.907969  0.503826\n",
       "B  0.651118       NaN       NaN  0.605965\n",
       "C       NaN  0.740122  0.528813       NaN\n",
       "D  0.188695       NaN       NaN  0.955057\n",
       "E  0.190794  1.978757  2.605967  0.683509"
      ]
     },
     "execution_count": 96,
     "metadata": {},
     "output_type": "execute_result"
    }
   ],
   "source": [
    " df[df>0]"
   ]
  },
  {
   "cell_type": "code",
   "execution_count": 97,
   "metadata": {},
   "outputs": [
    {
     "data": {
      "text/html": [
       "<div>\n",
       "<style scoped>\n",
       "    .dataframe tbody tr th:only-of-type {\n",
       "        vertical-align: middle;\n",
       "    }\n",
       "\n",
       "    .dataframe tbody tr th {\n",
       "        vertical-align: top;\n",
       "    }\n",
       "\n",
       "    .dataframe thead th {\n",
       "        text-align: right;\n",
       "    }\n",
       "</style>\n",
       "<table border=\"1\" class=\"dataframe\">\n",
       "  <thead>\n",
       "    <tr style=\"text-align: right;\">\n",
       "      <th></th>\n",
       "      <th>W</th>\n",
       "      <th>X</th>\n",
       "      <th>Y</th>\n",
       "      <th>Z</th>\n",
       "    </tr>\n",
       "  </thead>\n",
       "  <tbody>\n",
       "    <tr>\n",
       "      <th>A</th>\n",
       "      <td>2.706850</td>\n",
       "      <td>0.628133</td>\n",
       "      <td>0.907969</td>\n",
       "      <td>0.503826</td>\n",
       "    </tr>\n",
       "    <tr>\n",
       "      <th>B</th>\n",
       "      <td>0.651118</td>\n",
       "      <td>-0.319318</td>\n",
       "      <td>-0.848077</td>\n",
       "      <td>0.605965</td>\n",
       "    </tr>\n",
       "    <tr>\n",
       "      <th>D</th>\n",
       "      <td>0.188695</td>\n",
       "      <td>-0.758872</td>\n",
       "      <td>-0.933237</td>\n",
       "      <td>0.955057</td>\n",
       "    </tr>\n",
       "    <tr>\n",
       "      <th>E</th>\n",
       "      <td>0.190794</td>\n",
       "      <td>1.978757</td>\n",
       "      <td>2.605967</td>\n",
       "      <td>0.683509</td>\n",
       "    </tr>\n",
       "  </tbody>\n",
       "</table>\n",
       "</div>"
      ],
      "text/plain": [
       "          W         X         Y         Z\n",
       "A  2.706850  0.628133  0.907969  0.503826\n",
       "B  0.651118 -0.319318 -0.848077  0.605965\n",
       "D  0.188695 -0.758872 -0.933237  0.955057\n",
       "E  0.190794  1.978757  2.605967  0.683509"
      ]
     },
     "execution_count": 97,
     "metadata": {},
     "output_type": "execute_result"
    }
   ],
   "source": [
    "df[df[\"W\"]>0]#Removes the Nan "
   ]
  },
  {
   "cell_type": "code",
   "execution_count": 98,
   "metadata": {},
   "outputs": [
    {
     "data": {
      "text/html": [
       "<div>\n",
       "<style scoped>\n",
       "    .dataframe tbody tr th:only-of-type {\n",
       "        vertical-align: middle;\n",
       "    }\n",
       "\n",
       "    .dataframe tbody tr th {\n",
       "        vertical-align: top;\n",
       "    }\n",
       "\n",
       "    .dataframe thead th {\n",
       "        text-align: right;\n",
       "    }\n",
       "</style>\n",
       "<table border=\"1\" class=\"dataframe\">\n",
       "  <thead>\n",
       "    <tr style=\"text-align: right;\">\n",
       "      <th></th>\n",
       "      <th>Y</th>\n",
       "      <th>X</th>\n",
       "    </tr>\n",
       "  </thead>\n",
       "  <tbody>\n",
       "    <tr>\n",
       "      <th>A</th>\n",
       "      <td>0.907969</td>\n",
       "      <td>0.628133</td>\n",
       "    </tr>\n",
       "    <tr>\n",
       "      <th>B</th>\n",
       "      <td>-0.848077</td>\n",
       "      <td>-0.319318</td>\n",
       "    </tr>\n",
       "    <tr>\n",
       "      <th>D</th>\n",
       "      <td>-0.933237</td>\n",
       "      <td>-0.758872</td>\n",
       "    </tr>\n",
       "    <tr>\n",
       "      <th>E</th>\n",
       "      <td>2.605967</td>\n",
       "      <td>1.978757</td>\n",
       "    </tr>\n",
       "  </tbody>\n",
       "</table>\n",
       "</div>"
      ],
      "text/plain": [
       "          Y         X\n",
       "A  0.907969  0.628133\n",
       "B -0.848077 -0.319318\n",
       "D -0.933237 -0.758872\n",
       "E  2.605967  1.978757"
      ]
     },
     "execution_count": 98,
     "metadata": {},
     "output_type": "execute_result"
    }
   ],
   "source": [
    "df[df[\"W\"]>0][[\"Y\",\"X\"]]"
   ]
  },
  {
   "cell_type": "code",
   "execution_count": 99,
   "metadata": {},
   "outputs": [
    {
     "data": {
      "text/plain": [
       "A     True\n",
       "B     True\n",
       "C    False\n",
       "D     True\n",
       "E     True\n",
       "Name: W, dtype: bool"
      ]
     },
     "execution_count": 99,
     "metadata": {},
     "output_type": "execute_result"
    }
   ],
   "source": [
    "boolf= df[\"W\"]>0\n",
    "boolf"
   ]
  },
  {
   "cell_type": "code",
   "execution_count": 100,
   "metadata": {},
   "outputs": [
    {
     "data": {
      "text/html": [
       "<div>\n",
       "<style scoped>\n",
       "    .dataframe tbody tr th:only-of-type {\n",
       "        vertical-align: middle;\n",
       "    }\n",
       "\n",
       "    .dataframe tbody tr th {\n",
       "        vertical-align: top;\n",
       "    }\n",
       "\n",
       "    .dataframe thead th {\n",
       "        text-align: right;\n",
       "    }\n",
       "</style>\n",
       "<table border=\"1\" class=\"dataframe\">\n",
       "  <thead>\n",
       "    <tr style=\"text-align: right;\">\n",
       "      <th></th>\n",
       "      <th>W</th>\n",
       "      <th>X</th>\n",
       "      <th>Y</th>\n",
       "      <th>Z</th>\n",
       "    </tr>\n",
       "  </thead>\n",
       "  <tbody>\n",
       "    <tr>\n",
       "      <th>E</th>\n",
       "      <td>0.190794</td>\n",
       "      <td>1.978757</td>\n",
       "      <td>2.605967</td>\n",
       "      <td>0.683509</td>\n",
       "    </tr>\n",
       "  </tbody>\n",
       "</table>\n",
       "</div>"
      ],
      "text/plain": [
       "          W         X         Y         Z\n",
       "E  0.190794  1.978757  2.605967  0.683509"
      ]
     },
     "execution_count": 100,
     "metadata": {},
     "output_type": "execute_result"
    }
   ],
   "source": [
    "#passing multiple conditions in parenthesis\n",
    "\n",
    "df[(df[\"W\"]>0) & (df[\"Y\"]>1)]"
   ]
  },
  {
   "cell_type": "code",
   "execution_count": 101,
   "metadata": {},
   "outputs": [
    {
     "data": {
      "text/html": [
       "<div>\n",
       "<style scoped>\n",
       "    .dataframe tbody tr th:only-of-type {\n",
       "        vertical-align: middle;\n",
       "    }\n",
       "\n",
       "    .dataframe tbody tr th {\n",
       "        vertical-align: top;\n",
       "    }\n",
       "\n",
       "    .dataframe thead th {\n",
       "        text-align: right;\n",
       "    }\n",
       "</style>\n",
       "<table border=\"1\" class=\"dataframe\">\n",
       "  <thead>\n",
       "    <tr style=\"text-align: right;\">\n",
       "      <th></th>\n",
       "      <th>W</th>\n",
       "      <th>X</th>\n",
       "      <th>Y</th>\n",
       "      <th>Z</th>\n",
       "    </tr>\n",
       "  </thead>\n",
       "  <tbody>\n",
       "    <tr>\n",
       "      <th>A</th>\n",
       "      <td>2.706850</td>\n",
       "      <td>0.628133</td>\n",
       "      <td>0.907969</td>\n",
       "      <td>0.503826</td>\n",
       "    </tr>\n",
       "    <tr>\n",
       "      <th>B</th>\n",
       "      <td>0.651118</td>\n",
       "      <td>-0.319318</td>\n",
       "      <td>-0.848077</td>\n",
       "      <td>0.605965</td>\n",
       "    </tr>\n",
       "    <tr>\n",
       "      <th>D</th>\n",
       "      <td>0.188695</td>\n",
       "      <td>-0.758872</td>\n",
       "      <td>-0.933237</td>\n",
       "      <td>0.955057</td>\n",
       "    </tr>\n",
       "    <tr>\n",
       "      <th>E</th>\n",
       "      <td>0.190794</td>\n",
       "      <td>1.978757</td>\n",
       "      <td>2.605967</td>\n",
       "      <td>0.683509</td>\n",
       "    </tr>\n",
       "  </tbody>\n",
       "</table>\n",
       "</div>"
      ],
      "text/plain": [
       "          W         X         Y         Z\n",
       "A  2.706850  0.628133  0.907969  0.503826\n",
       "B  0.651118 -0.319318 -0.848077  0.605965\n",
       "D  0.188695 -0.758872 -0.933237  0.955057\n",
       "E  0.190794  1.978757  2.605967  0.683509"
      ]
     },
     "execution_count": 101,
     "metadata": {},
     "output_type": "execute_result"
    }
   ],
   "source": [
    "df[(df[\"W\"]>0) | (df[\"Y\"]>1)]\n"
   ]
  },
  {
   "cell_type": "code",
   "execution_count": 102,
   "metadata": {},
   "outputs": [
    {
     "data": {
      "text/html": [
       "<div>\n",
       "<style scoped>\n",
       "    .dataframe tbody tr th:only-of-type {\n",
       "        vertical-align: middle;\n",
       "    }\n",
       "\n",
       "    .dataframe tbody tr th {\n",
       "        vertical-align: top;\n",
       "    }\n",
       "\n",
       "    .dataframe thead th {\n",
       "        text-align: right;\n",
       "    }\n",
       "</style>\n",
       "<table border=\"1\" class=\"dataframe\">\n",
       "  <thead>\n",
       "    <tr style=\"text-align: right;\">\n",
       "      <th></th>\n",
       "      <th>index</th>\n",
       "      <th>W</th>\n",
       "      <th>X</th>\n",
       "      <th>Y</th>\n",
       "      <th>Z</th>\n",
       "    </tr>\n",
       "  </thead>\n",
       "  <tbody>\n",
       "    <tr>\n",
       "      <th>0</th>\n",
       "      <td>A</td>\n",
       "      <td>2.706850</td>\n",
       "      <td>0.628133</td>\n",
       "      <td>0.907969</td>\n",
       "      <td>0.503826</td>\n",
       "    </tr>\n",
       "    <tr>\n",
       "      <th>1</th>\n",
       "      <td>B</td>\n",
       "      <td>0.651118</td>\n",
       "      <td>-0.319318</td>\n",
       "      <td>-0.848077</td>\n",
       "      <td>0.605965</td>\n",
       "    </tr>\n",
       "    <tr>\n",
       "      <th>2</th>\n",
       "      <td>C</td>\n",
       "      <td>-2.018168</td>\n",
       "      <td>0.740122</td>\n",
       "      <td>0.528813</td>\n",
       "      <td>-0.589001</td>\n",
       "    </tr>\n",
       "    <tr>\n",
       "      <th>3</th>\n",
       "      <td>D</td>\n",
       "      <td>0.188695</td>\n",
       "      <td>-0.758872</td>\n",
       "      <td>-0.933237</td>\n",
       "      <td>0.955057</td>\n",
       "    </tr>\n",
       "    <tr>\n",
       "      <th>4</th>\n",
       "      <td>E</td>\n",
       "      <td>0.190794</td>\n",
       "      <td>1.978757</td>\n",
       "      <td>2.605967</td>\n",
       "      <td>0.683509</td>\n",
       "    </tr>\n",
       "  </tbody>\n",
       "</table>\n",
       "</div>"
      ],
      "text/plain": [
       "  index         W         X         Y         Z\n",
       "0     A  2.706850  0.628133  0.907969  0.503826\n",
       "1     B  0.651118 -0.319318 -0.848077  0.605965\n",
       "2     C -2.018168  0.740122  0.528813 -0.589001\n",
       "3     D  0.188695 -0.758872 -0.933237  0.955057\n",
       "4     E  0.190794  1.978757  2.605967  0.683509"
      ]
     },
     "execution_count": 102,
     "metadata": {},
     "output_type": "execute_result"
    }
   ],
   "source": [
    "#reseting the index\n",
    "df.reset_index()\n"
   ]
  },
  {
   "cell_type": "code",
   "execution_count": 103,
   "metadata": {},
   "outputs": [
    {
     "data": {
      "text/plain": [
       "['CA', 'NY', 'OR', 'CO', 'ST']"
      ]
     },
     "execution_count": 103,
     "metadata": {},
     "output_type": "execute_result"
    }
   ],
   "source": [
    "#setting the index\n",
    "newind = \"CA NY OR CO ST\".split()\n",
    "newind"
   ]
  },
  {
   "cell_type": "code",
   "execution_count": 104,
   "metadata": {},
   "outputs": [
    {
     "data": {
      "text/html": [
       "<div>\n",
       "<style scoped>\n",
       "    .dataframe tbody tr th:only-of-type {\n",
       "        vertical-align: middle;\n",
       "    }\n",
       "\n",
       "    .dataframe tbody tr th {\n",
       "        vertical-align: top;\n",
       "    }\n",
       "\n",
       "    .dataframe thead th {\n",
       "        text-align: right;\n",
       "    }\n",
       "</style>\n",
       "<table border=\"1\" class=\"dataframe\">\n",
       "  <thead>\n",
       "    <tr style=\"text-align: right;\">\n",
       "      <th></th>\n",
       "      <th>W</th>\n",
       "      <th>X</th>\n",
       "      <th>Y</th>\n",
       "      <th>Z</th>\n",
       "      <th>States</th>\n",
       "    </tr>\n",
       "  </thead>\n",
       "  <tbody>\n",
       "    <tr>\n",
       "      <th>A</th>\n",
       "      <td>2.706850</td>\n",
       "      <td>0.628133</td>\n",
       "      <td>0.907969</td>\n",
       "      <td>0.503826</td>\n",
       "      <td>CA</td>\n",
       "    </tr>\n",
       "    <tr>\n",
       "      <th>B</th>\n",
       "      <td>0.651118</td>\n",
       "      <td>-0.319318</td>\n",
       "      <td>-0.848077</td>\n",
       "      <td>0.605965</td>\n",
       "      <td>NY</td>\n",
       "    </tr>\n",
       "    <tr>\n",
       "      <th>C</th>\n",
       "      <td>-2.018168</td>\n",
       "      <td>0.740122</td>\n",
       "      <td>0.528813</td>\n",
       "      <td>-0.589001</td>\n",
       "      <td>OR</td>\n",
       "    </tr>\n",
       "    <tr>\n",
       "      <th>D</th>\n",
       "      <td>0.188695</td>\n",
       "      <td>-0.758872</td>\n",
       "      <td>-0.933237</td>\n",
       "      <td>0.955057</td>\n",
       "      <td>CO</td>\n",
       "    </tr>\n",
       "    <tr>\n",
       "      <th>E</th>\n",
       "      <td>0.190794</td>\n",
       "      <td>1.978757</td>\n",
       "      <td>2.605967</td>\n",
       "      <td>0.683509</td>\n",
       "      <td>ST</td>\n",
       "    </tr>\n",
       "  </tbody>\n",
       "</table>\n",
       "</div>"
      ],
      "text/plain": [
       "          W         X         Y         Z States\n",
       "A  2.706850  0.628133  0.907969  0.503826     CA\n",
       "B  0.651118 -0.319318 -0.848077  0.605965     NY\n",
       "C -2.018168  0.740122  0.528813 -0.589001     OR\n",
       "D  0.188695 -0.758872 -0.933237  0.955057     CO\n",
       "E  0.190794  1.978757  2.605967  0.683509     ST"
      ]
     },
     "execution_count": 104,
     "metadata": {},
     "output_type": "execute_result"
    }
   ],
   "source": [
    "df[\"States\"] = newind\n",
    "df"
   ]
  },
  {
   "cell_type": "code",
   "execution_count": 105,
   "metadata": {},
   "outputs": [
    {
     "data": {
      "text/html": [
       "<div>\n",
       "<style scoped>\n",
       "    .dataframe tbody tr th:only-of-type {\n",
       "        vertical-align: middle;\n",
       "    }\n",
       "\n",
       "    .dataframe tbody tr th {\n",
       "        vertical-align: top;\n",
       "    }\n",
       "\n",
       "    .dataframe thead th {\n",
       "        text-align: right;\n",
       "    }\n",
       "</style>\n",
       "<table border=\"1\" class=\"dataframe\">\n",
       "  <thead>\n",
       "    <tr style=\"text-align: right;\">\n",
       "      <th></th>\n",
       "      <th>W</th>\n",
       "      <th>X</th>\n",
       "      <th>Y</th>\n",
       "      <th>Z</th>\n",
       "    </tr>\n",
       "    <tr>\n",
       "      <th>States</th>\n",
       "      <th></th>\n",
       "      <th></th>\n",
       "      <th></th>\n",
       "      <th></th>\n",
       "    </tr>\n",
       "  </thead>\n",
       "  <tbody>\n",
       "    <tr>\n",
       "      <th>CA</th>\n",
       "      <td>2.706850</td>\n",
       "      <td>0.628133</td>\n",
       "      <td>0.907969</td>\n",
       "      <td>0.503826</td>\n",
       "    </tr>\n",
       "    <tr>\n",
       "      <th>NY</th>\n",
       "      <td>0.651118</td>\n",
       "      <td>-0.319318</td>\n",
       "      <td>-0.848077</td>\n",
       "      <td>0.605965</td>\n",
       "    </tr>\n",
       "    <tr>\n",
       "      <th>OR</th>\n",
       "      <td>-2.018168</td>\n",
       "      <td>0.740122</td>\n",
       "      <td>0.528813</td>\n",
       "      <td>-0.589001</td>\n",
       "    </tr>\n",
       "    <tr>\n",
       "      <th>CO</th>\n",
       "      <td>0.188695</td>\n",
       "      <td>-0.758872</td>\n",
       "      <td>-0.933237</td>\n",
       "      <td>0.955057</td>\n",
       "    </tr>\n",
       "    <tr>\n",
       "      <th>ST</th>\n",
       "      <td>0.190794</td>\n",
       "      <td>1.978757</td>\n",
       "      <td>2.605967</td>\n",
       "      <td>0.683509</td>\n",
       "    </tr>\n",
       "  </tbody>\n",
       "</table>\n",
       "</div>"
      ],
      "text/plain": [
       "               W         X         Y         Z\n",
       "States                                        \n",
       "CA      2.706850  0.628133  0.907969  0.503826\n",
       "NY      0.651118 -0.319318 -0.848077  0.605965\n",
       "OR     -2.018168  0.740122  0.528813 -0.589001\n",
       "CO      0.188695 -0.758872 -0.933237  0.955057\n",
       "ST      0.190794  1.978757  2.605967  0.683509"
      ]
     },
     "execution_count": 105,
     "metadata": {},
     "output_type": "execute_result"
    }
   ],
   "source": [
    "df.set_index(\"States\")"
   ]
  },
  {
   "cell_type": "code",
   "execution_count": 106,
   "metadata": {
    "scrolled": true
   },
   "outputs": [
    {
     "data": {
      "text/html": [
       "<div>\n",
       "<style scoped>\n",
       "    .dataframe tbody tr th:only-of-type {\n",
       "        vertical-align: middle;\n",
       "    }\n",
       "\n",
       "    .dataframe tbody tr th {\n",
       "        vertical-align: top;\n",
       "    }\n",
       "\n",
       "    .dataframe thead th {\n",
       "        text-align: right;\n",
       "    }\n",
       "</style>\n",
       "<table border=\"1\" class=\"dataframe\">\n",
       "  <thead>\n",
       "    <tr style=\"text-align: right;\">\n",
       "      <th></th>\n",
       "      <th>W</th>\n",
       "      <th>X</th>\n",
       "      <th>Y</th>\n",
       "      <th>Z</th>\n",
       "      <th>States</th>\n",
       "    </tr>\n",
       "  </thead>\n",
       "  <tbody>\n",
       "    <tr>\n",
       "      <th>A</th>\n",
       "      <td>2.706850</td>\n",
       "      <td>0.628133</td>\n",
       "      <td>0.907969</td>\n",
       "      <td>0.503826</td>\n",
       "      <td>CA</td>\n",
       "    </tr>\n",
       "    <tr>\n",
       "      <th>B</th>\n",
       "      <td>0.651118</td>\n",
       "      <td>-0.319318</td>\n",
       "      <td>-0.848077</td>\n",
       "      <td>0.605965</td>\n",
       "      <td>NY</td>\n",
       "    </tr>\n",
       "    <tr>\n",
       "      <th>C</th>\n",
       "      <td>-2.018168</td>\n",
       "      <td>0.740122</td>\n",
       "      <td>0.528813</td>\n",
       "      <td>-0.589001</td>\n",
       "      <td>OR</td>\n",
       "    </tr>\n",
       "    <tr>\n",
       "      <th>D</th>\n",
       "      <td>0.188695</td>\n",
       "      <td>-0.758872</td>\n",
       "      <td>-0.933237</td>\n",
       "      <td>0.955057</td>\n",
       "      <td>CO</td>\n",
       "    </tr>\n",
       "    <tr>\n",
       "      <th>E</th>\n",
       "      <td>0.190794</td>\n",
       "      <td>1.978757</td>\n",
       "      <td>2.605967</td>\n",
       "      <td>0.683509</td>\n",
       "      <td>ST</td>\n",
       "    </tr>\n",
       "  </tbody>\n",
       "</table>\n",
       "</div>"
      ],
      "text/plain": [
       "          W         X         Y         Z States\n",
       "A  2.706850  0.628133  0.907969  0.503826     CA\n",
       "B  0.651118 -0.319318 -0.848077  0.605965     NY\n",
       "C -2.018168  0.740122  0.528813 -0.589001     OR\n",
       "D  0.188695 -0.758872 -0.933237  0.955057     CO\n",
       "E  0.190794  1.978757  2.605967  0.683509     ST"
      ]
     },
     "execution_count": 106,
     "metadata": {},
     "output_type": "execute_result"
    }
   ],
   "source": [
    "df"
   ]
  },
  {
   "cell_type": "markdown",
   "metadata": {},
   "source": [
    "## New lesson"
   ]
  },
  {
   "cell_type": "code",
   "execution_count": 107,
   "metadata": {},
   "outputs": [],
   "source": [
    "import numpy as np\n",
    "import pandas as pd"
   ]
  },
  {
   "cell_type": "code",
   "execution_count": 108,
   "metadata": {},
   "outputs": [],
   "source": [
    "outside = [\"G1\",\"G1\",\"G1\",\"G2\",\"G2\",\"G2\"]\n",
    "inside=[1,2,3,1,2,3]\n",
    "hier_index = list(zip(outside,inside))\n",
    "hier_index = pd.MultiIndex.from_tuples(hier_index)"
   ]
  },
  {
   "cell_type": "code",
   "execution_count": 109,
   "metadata": {},
   "outputs": [],
   "source": [
    "df = pd.DataFrame(randn(6,2),hier_index,[\"A\",\"B\"])"
   ]
  },
  {
   "cell_type": "code",
   "execution_count": 110,
   "metadata": {},
   "outputs": [
    {
     "data": {
      "text/html": [
       "<div>\n",
       "<style scoped>\n",
       "    .dataframe tbody tr th:only-of-type {\n",
       "        vertical-align: middle;\n",
       "    }\n",
       "\n",
       "    .dataframe tbody tr th {\n",
       "        vertical-align: top;\n",
       "    }\n",
       "\n",
       "    .dataframe thead th {\n",
       "        text-align: right;\n",
       "    }\n",
       "</style>\n",
       "<table border=\"1\" class=\"dataframe\">\n",
       "  <thead>\n",
       "    <tr style=\"text-align: right;\">\n",
       "      <th></th>\n",
       "      <th></th>\n",
       "      <th>A</th>\n",
       "      <th>B</th>\n",
       "    </tr>\n",
       "  </thead>\n",
       "  <tbody>\n",
       "    <tr>\n",
       "      <th rowspan=\"3\" valign=\"top\">G1</th>\n",
       "      <th>1</th>\n",
       "      <td>0.302665</td>\n",
       "      <td>1.693723</td>\n",
       "    </tr>\n",
       "    <tr>\n",
       "      <th>2</th>\n",
       "      <td>-1.706086</td>\n",
       "      <td>-1.159119</td>\n",
       "    </tr>\n",
       "    <tr>\n",
       "      <th>3</th>\n",
       "      <td>-0.134841</td>\n",
       "      <td>0.390528</td>\n",
       "    </tr>\n",
       "    <tr>\n",
       "      <th rowspan=\"3\" valign=\"top\">G2</th>\n",
       "      <th>1</th>\n",
       "      <td>0.166905</td>\n",
       "      <td>0.184502</td>\n",
       "    </tr>\n",
       "    <tr>\n",
       "      <th>2</th>\n",
       "      <td>0.807706</td>\n",
       "      <td>0.072960</td>\n",
       "    </tr>\n",
       "    <tr>\n",
       "      <th>3</th>\n",
       "      <td>0.638787</td>\n",
       "      <td>0.329646</td>\n",
       "    </tr>\n",
       "  </tbody>\n",
       "</table>\n",
       "</div>"
      ],
      "text/plain": [
       "             A         B\n",
       "G1 1  0.302665  1.693723\n",
       "   2 -1.706086 -1.159119\n",
       "   3 -0.134841  0.390528\n",
       "G2 1  0.166905  0.184502\n",
       "   2  0.807706  0.072960\n",
       "   3  0.638787  0.329646"
      ]
     },
     "execution_count": 110,
     "metadata": {},
     "output_type": "execute_result"
    }
   ],
   "source": [
    "df"
   ]
  },
  {
   "cell_type": "code",
   "execution_count": 111,
   "metadata": {},
   "outputs": [
    {
     "data": {
      "text/html": [
       "<div>\n",
       "<style scoped>\n",
       "    .dataframe tbody tr th:only-of-type {\n",
       "        vertical-align: middle;\n",
       "    }\n",
       "\n",
       "    .dataframe tbody tr th {\n",
       "        vertical-align: top;\n",
       "    }\n",
       "\n",
       "    .dataframe thead th {\n",
       "        text-align: right;\n",
       "    }\n",
       "</style>\n",
       "<table border=\"1\" class=\"dataframe\">\n",
       "  <thead>\n",
       "    <tr style=\"text-align: right;\">\n",
       "      <th></th>\n",
       "      <th>A</th>\n",
       "      <th>B</th>\n",
       "    </tr>\n",
       "  </thead>\n",
       "  <tbody>\n",
       "    <tr>\n",
       "      <th>1</th>\n",
       "      <td>0.302665</td>\n",
       "      <td>1.693723</td>\n",
       "    </tr>\n",
       "    <tr>\n",
       "      <th>2</th>\n",
       "      <td>-1.706086</td>\n",
       "      <td>-1.159119</td>\n",
       "    </tr>\n",
       "    <tr>\n",
       "      <th>3</th>\n",
       "      <td>-0.134841</td>\n",
       "      <td>0.390528</td>\n",
       "    </tr>\n",
       "  </tbody>\n",
       "</table>\n",
       "</div>"
      ],
      "text/plain": [
       "          A         B\n",
       "1  0.302665  1.693723\n",
       "2 -1.706086 -1.159119\n",
       "3 -0.134841  0.390528"
      ]
     },
     "execution_count": 111,
     "metadata": {},
     "output_type": "execute_result"
    }
   ],
   "source": [
    "df.loc[\"G1\"]"
   ]
  },
  {
   "cell_type": "code",
   "execution_count": 112,
   "metadata": {},
   "outputs": [
    {
     "data": {
      "text/plain": [
       "A    0.302665\n",
       "B    1.693723\n",
       "Name: 1, dtype: float64"
      ]
     },
     "execution_count": 112,
     "metadata": {},
     "output_type": "execute_result"
    }
   ],
   "source": [
    "df.loc[\"G1\"].loc[1]"
   ]
  },
  {
   "cell_type": "code",
   "execution_count": 113,
   "metadata": {},
   "outputs": [],
   "source": [
    "df.index.names=[\"Groups\",\"Num\"]"
   ]
  },
  {
   "cell_type": "code",
   "execution_count": 114,
   "metadata": {},
   "outputs": [
    {
     "data": {
      "text/html": [
       "<div>\n",
       "<style scoped>\n",
       "    .dataframe tbody tr th:only-of-type {\n",
       "        vertical-align: middle;\n",
       "    }\n",
       "\n",
       "    .dataframe tbody tr th {\n",
       "        vertical-align: top;\n",
       "    }\n",
       "\n",
       "    .dataframe thead th {\n",
       "        text-align: right;\n",
       "    }\n",
       "</style>\n",
       "<table border=\"1\" class=\"dataframe\">\n",
       "  <thead>\n",
       "    <tr style=\"text-align: right;\">\n",
       "      <th></th>\n",
       "      <th></th>\n",
       "      <th>A</th>\n",
       "      <th>B</th>\n",
       "    </tr>\n",
       "    <tr>\n",
       "      <th>Groups</th>\n",
       "      <th>Num</th>\n",
       "      <th></th>\n",
       "      <th></th>\n",
       "    </tr>\n",
       "  </thead>\n",
       "  <tbody>\n",
       "    <tr>\n",
       "      <th rowspan=\"3\" valign=\"top\">G1</th>\n",
       "      <th>1</th>\n",
       "      <td>0.302665</td>\n",
       "      <td>1.693723</td>\n",
       "    </tr>\n",
       "    <tr>\n",
       "      <th>2</th>\n",
       "      <td>-1.706086</td>\n",
       "      <td>-1.159119</td>\n",
       "    </tr>\n",
       "    <tr>\n",
       "      <th>3</th>\n",
       "      <td>-0.134841</td>\n",
       "      <td>0.390528</td>\n",
       "    </tr>\n",
       "    <tr>\n",
       "      <th rowspan=\"3\" valign=\"top\">G2</th>\n",
       "      <th>1</th>\n",
       "      <td>0.166905</td>\n",
       "      <td>0.184502</td>\n",
       "    </tr>\n",
       "    <tr>\n",
       "      <th>2</th>\n",
       "      <td>0.807706</td>\n",
       "      <td>0.072960</td>\n",
       "    </tr>\n",
       "    <tr>\n",
       "      <th>3</th>\n",
       "      <td>0.638787</td>\n",
       "      <td>0.329646</td>\n",
       "    </tr>\n",
       "  </tbody>\n",
       "</table>\n",
       "</div>"
      ],
      "text/plain": [
       "                   A         B\n",
       "Groups Num                    \n",
       "G1     1    0.302665  1.693723\n",
       "       2   -1.706086 -1.159119\n",
       "       3   -0.134841  0.390528\n",
       "G2     1    0.166905  0.184502\n",
       "       2    0.807706  0.072960\n",
       "       3    0.638787  0.329646"
      ]
     },
     "execution_count": 114,
     "metadata": {},
     "output_type": "execute_result"
    }
   ],
   "source": [
    "df"
   ]
  },
  {
   "cell_type": "code",
   "execution_count": 115,
   "metadata": {},
   "outputs": [
    {
     "data": {
      "text/plain": [
       "0.07295967531703869"
      ]
     },
     "execution_count": 115,
     "metadata": {},
     "output_type": "execute_result"
    }
   ],
   "source": [
    "#geting values from the dataframe \n",
    "df.loc[\"G2\"].loc[2][\"B\"]"
   ]
  },
  {
   "cell_type": "code",
   "execution_count": 116,
   "metadata": {},
   "outputs": [
    {
     "data": {
      "text/plain": [
       "-0.13484072060601238"
      ]
     },
     "execution_count": 116,
     "metadata": {},
     "output_type": "execute_result"
    }
   ],
   "source": [
    "df.loc['G1'].loc[3]['A']"
   ]
  },
  {
   "cell_type": "code",
   "execution_count": 117,
   "metadata": {},
   "outputs": [
    {
     "data": {
      "text/html": [
       "<div>\n",
       "<style scoped>\n",
       "    .dataframe tbody tr th:only-of-type {\n",
       "        vertical-align: middle;\n",
       "    }\n",
       "\n",
       "    .dataframe tbody tr th {\n",
       "        vertical-align: top;\n",
       "    }\n",
       "\n",
       "    .dataframe thead th {\n",
       "        text-align: right;\n",
       "    }\n",
       "</style>\n",
       "<table border=\"1\" class=\"dataframe\">\n",
       "  <thead>\n",
       "    <tr style=\"text-align: right;\">\n",
       "      <th></th>\n",
       "      <th>A</th>\n",
       "      <th>B</th>\n",
       "    </tr>\n",
       "    <tr>\n",
       "      <th>Groups</th>\n",
       "      <th></th>\n",
       "      <th></th>\n",
       "    </tr>\n",
       "  </thead>\n",
       "  <tbody>\n",
       "    <tr>\n",
       "      <th>G1</th>\n",
       "      <td>0.302665</td>\n",
       "      <td>1.693723</td>\n",
       "    </tr>\n",
       "    <tr>\n",
       "      <th>G2</th>\n",
       "      <td>0.166905</td>\n",
       "      <td>0.184502</td>\n",
       "    </tr>\n",
       "  </tbody>\n",
       "</table>\n",
       "</div>"
      ],
      "text/plain": [
       "               A         B\n",
       "Groups                    \n",
       "G1      0.302665  1.693723\n",
       "G2      0.166905  0.184502"
      ]
     },
     "execution_count": 117,
     "metadata": {},
     "output_type": "execute_result"
    }
   ],
   "source": [
    "#cross section\n",
    "df.xs(1,level='Num')"
   ]
  },
  {
   "cell_type": "markdown",
   "metadata": {},
   "source": [
    "## Missing data"
   ]
  },
  {
   "cell_type": "code",
   "execution_count": 118,
   "metadata": {},
   "outputs": [],
   "source": [
    "import numpy as np \n",
    "import pandas as pd"
   ]
  },
  {
   "cell_type": "code",
   "execution_count": 119,
   "metadata": {},
   "outputs": [],
   "source": [
    "d = {'A':[1,2,np.nan],'B':[5,np.nan,np.nan],'C':[1,2,3]}"
   ]
  },
  {
   "cell_type": "code",
   "execution_count": 120,
   "metadata": {},
   "outputs": [
    {
     "data": {
      "text/html": [
       "<div>\n",
       "<style scoped>\n",
       "    .dataframe tbody tr th:only-of-type {\n",
       "        vertical-align: middle;\n",
       "    }\n",
       "\n",
       "    .dataframe tbody tr th {\n",
       "        vertical-align: top;\n",
       "    }\n",
       "\n",
       "    .dataframe thead th {\n",
       "        text-align: right;\n",
       "    }\n",
       "</style>\n",
       "<table border=\"1\" class=\"dataframe\">\n",
       "  <thead>\n",
       "    <tr style=\"text-align: right;\">\n",
       "      <th></th>\n",
       "      <th>A</th>\n",
       "      <th>B</th>\n",
       "      <th>C</th>\n",
       "    </tr>\n",
       "  </thead>\n",
       "  <tbody>\n",
       "    <tr>\n",
       "      <th>0</th>\n",
       "      <td>1.0</td>\n",
       "      <td>5.0</td>\n",
       "      <td>1</td>\n",
       "    </tr>\n",
       "    <tr>\n",
       "      <th>1</th>\n",
       "      <td>2.0</td>\n",
       "      <td>NaN</td>\n",
       "      <td>2</td>\n",
       "    </tr>\n",
       "    <tr>\n",
       "      <th>2</th>\n",
       "      <td>NaN</td>\n",
       "      <td>NaN</td>\n",
       "      <td>3</td>\n",
       "    </tr>\n",
       "  </tbody>\n",
       "</table>\n",
       "</div>"
      ],
      "text/plain": [
       "     A    B  C\n",
       "0  1.0  5.0  1\n",
       "1  2.0  NaN  2\n",
       "2  NaN  NaN  3"
      ]
     },
     "execution_count": 120,
     "metadata": {},
     "output_type": "execute_result"
    }
   ],
   "source": [
    "df=pd.DataFrame(d)\n",
    "df"
   ]
  },
  {
   "cell_type": "code",
   "execution_count": 121,
   "metadata": {},
   "outputs": [
    {
     "data": {
      "text/html": [
       "<div>\n",
       "<style scoped>\n",
       "    .dataframe tbody tr th:only-of-type {\n",
       "        vertical-align: middle;\n",
       "    }\n",
       "\n",
       "    .dataframe tbody tr th {\n",
       "        vertical-align: top;\n",
       "    }\n",
       "\n",
       "    .dataframe thead th {\n",
       "        text-align: right;\n",
       "    }\n",
       "</style>\n",
       "<table border=\"1\" class=\"dataframe\">\n",
       "  <thead>\n",
       "    <tr style=\"text-align: right;\">\n",
       "      <th></th>\n",
       "      <th>A</th>\n",
       "      <th>B</th>\n",
       "      <th>C</th>\n",
       "    </tr>\n",
       "  </thead>\n",
       "  <tbody>\n",
       "    <tr>\n",
       "      <th>0</th>\n",
       "      <td>1.0</td>\n",
       "      <td>5.0</td>\n",
       "      <td>1</td>\n",
       "    </tr>\n",
       "  </tbody>\n",
       "</table>\n",
       "</div>"
      ],
      "text/plain": [
       "     A    B  C\n",
       "0  1.0  5.0  1"
      ]
     },
     "execution_count": 121,
     "metadata": {},
     "output_type": "execute_result"
    }
   ],
   "source": [
    "df.dropna()#drops the rows with nan values"
   ]
  },
  {
   "cell_type": "code",
   "execution_count": 122,
   "metadata": {},
   "outputs": [
    {
     "data": {
      "text/html": [
       "<div>\n",
       "<style scoped>\n",
       "    .dataframe tbody tr th:only-of-type {\n",
       "        vertical-align: middle;\n",
       "    }\n",
       "\n",
       "    .dataframe tbody tr th {\n",
       "        vertical-align: top;\n",
       "    }\n",
       "\n",
       "    .dataframe thead th {\n",
       "        text-align: right;\n",
       "    }\n",
       "</style>\n",
       "<table border=\"1\" class=\"dataframe\">\n",
       "  <thead>\n",
       "    <tr style=\"text-align: right;\">\n",
       "      <th></th>\n",
       "      <th>C</th>\n",
       "    </tr>\n",
       "  </thead>\n",
       "  <tbody>\n",
       "    <tr>\n",
       "      <th>0</th>\n",
       "      <td>1</td>\n",
       "    </tr>\n",
       "    <tr>\n",
       "      <th>1</th>\n",
       "      <td>2</td>\n",
       "    </tr>\n",
       "    <tr>\n",
       "      <th>2</th>\n",
       "      <td>3</td>\n",
       "    </tr>\n",
       "  </tbody>\n",
       "</table>\n",
       "</div>"
      ],
      "text/plain": [
       "   C\n",
       "0  1\n",
       "1  2\n",
       "2  3"
      ]
     },
     "execution_count": 122,
     "metadata": {},
     "output_type": "execute_result"
    }
   ],
   "source": [
    "#to drop columns with nan values\n",
    "df.dropna(axis=1)"
   ]
  },
  {
   "cell_type": "code",
   "execution_count": 123,
   "metadata": {},
   "outputs": [
    {
     "data": {
      "text/html": [
       "<div>\n",
       "<style scoped>\n",
       "    .dataframe tbody tr th:only-of-type {\n",
       "        vertical-align: middle;\n",
       "    }\n",
       "\n",
       "    .dataframe tbody tr th {\n",
       "        vertical-align: top;\n",
       "    }\n",
       "\n",
       "    .dataframe thead th {\n",
       "        text-align: right;\n",
       "    }\n",
       "</style>\n",
       "<table border=\"1\" class=\"dataframe\">\n",
       "  <thead>\n",
       "    <tr style=\"text-align: right;\">\n",
       "      <th></th>\n",
       "      <th>A</th>\n",
       "      <th>B</th>\n",
       "      <th>C</th>\n",
       "    </tr>\n",
       "  </thead>\n",
       "  <tbody>\n",
       "    <tr>\n",
       "      <th>0</th>\n",
       "      <td>1.0</td>\n",
       "      <td>5.0</td>\n",
       "      <td>1</td>\n",
       "    </tr>\n",
       "    <tr>\n",
       "      <th>1</th>\n",
       "      <td>2.0</td>\n",
       "      <td>NaN</td>\n",
       "      <td>2</td>\n",
       "    </tr>\n",
       "  </tbody>\n",
       "</table>\n",
       "</div>"
      ],
      "text/plain": [
       "     A    B  C\n",
       "0  1.0  5.0  1\n",
       "1  2.0  NaN  2"
      ]
     },
     "execution_count": 123,
     "metadata": {},
     "output_type": "execute_result"
    }
   ],
   "source": [
    "df.dropna(thresh=2)"
   ]
  },
  {
   "cell_type": "code",
   "execution_count": 124,
   "metadata": {},
   "outputs": [
    {
     "data": {
      "text/html": [
       "<div>\n",
       "<style scoped>\n",
       "    .dataframe tbody tr th:only-of-type {\n",
       "        vertical-align: middle;\n",
       "    }\n",
       "\n",
       "    .dataframe tbody tr th {\n",
       "        vertical-align: top;\n",
       "    }\n",
       "\n",
       "    .dataframe thead th {\n",
       "        text-align: right;\n",
       "    }\n",
       "</style>\n",
       "<table border=\"1\" class=\"dataframe\">\n",
       "  <thead>\n",
       "    <tr style=\"text-align: right;\">\n",
       "      <th></th>\n",
       "      <th>A</th>\n",
       "      <th>B</th>\n",
       "      <th>C</th>\n",
       "    </tr>\n",
       "  </thead>\n",
       "  <tbody>\n",
       "    <tr>\n",
       "      <th>0</th>\n",
       "      <td>1.0</td>\n",
       "      <td>5.0</td>\n",
       "      <td>1</td>\n",
       "    </tr>\n",
       "    <tr>\n",
       "      <th>1</th>\n",
       "      <td>2.0</td>\n",
       "      <td>5.0</td>\n",
       "      <td>2</td>\n",
       "    </tr>\n",
       "    <tr>\n",
       "      <th>2</th>\n",
       "      <td>5.0</td>\n",
       "      <td>5.0</td>\n",
       "      <td>3</td>\n",
       "    </tr>\n",
       "  </tbody>\n",
       "</table>\n",
       "</div>"
      ],
      "text/plain": [
       "     A    B  C\n",
       "0  1.0  5.0  1\n",
       "1  2.0  5.0  2\n",
       "2  5.0  5.0  3"
      ]
     },
     "execution_count": 124,
     "metadata": {},
     "output_type": "execute_result"
    }
   ],
   "source": [
    "df.fillna(value=5)#fills the nan"
   ]
  },
  {
   "cell_type": "code",
   "execution_count": 125,
   "metadata": {},
   "outputs": [
    {
     "data": {
      "text/plain": [
       "0    1.0\n",
       "1    2.0\n",
       "2    1.5\n",
       "Name: A, dtype: float64"
      ]
     },
     "execution_count": 125,
     "metadata": {},
     "output_type": "execute_result"
    }
   ],
   "source": [
    "#usually you fill in the missing values with the mean value of the column\n",
    "df['A'].fillna(value=df['A'].mean())"
   ]
  },
  {
   "cell_type": "code",
   "execution_count": null,
   "metadata": {},
   "outputs": [],
   "source": []
  },
  {
   "cell_type": "markdown",
   "metadata": {},
   "source": [
    "## Groupby"
   ]
  },
  {
   "cell_type": "code",
   "execution_count": 126,
   "metadata": {},
   "outputs": [],
   "source": [
    "# Helps you to group together rows based off a column value\n",
    "import numpy as np\n",
    "import pandas as pd"
   ]
  },
  {
   "cell_type": "code",
   "execution_count": 127,
   "metadata": {},
   "outputs": [],
   "source": [
    "data = {'Company':['GOOG','GOOG','MSFT','MSFT','FB','FB'],\n",
    "        'Person':['Sam','Charlie','Amy','Vanessa','Carl','Sarah'],\n",
    "       'Sale':[200,120,340,124,243,350]}"
   ]
  },
  {
   "cell_type": "code",
   "execution_count": 128,
   "metadata": {},
   "outputs": [],
   "source": [
    "df=pd.DataFrame(data)"
   ]
  },
  {
   "cell_type": "code",
   "execution_count": 129,
   "metadata": {
    "scrolled": true
   },
   "outputs": [
    {
     "data": {
      "text/html": [
       "<div>\n",
       "<style scoped>\n",
       "    .dataframe tbody tr th:only-of-type {\n",
       "        vertical-align: middle;\n",
       "    }\n",
       "\n",
       "    .dataframe tbody tr th {\n",
       "        vertical-align: top;\n",
       "    }\n",
       "\n",
       "    .dataframe thead th {\n",
       "        text-align: right;\n",
       "    }\n",
       "</style>\n",
       "<table border=\"1\" class=\"dataframe\">\n",
       "  <thead>\n",
       "    <tr style=\"text-align: right;\">\n",
       "      <th></th>\n",
       "      <th>Company</th>\n",
       "      <th>Person</th>\n",
       "      <th>Sale</th>\n",
       "    </tr>\n",
       "  </thead>\n",
       "  <tbody>\n",
       "    <tr>\n",
       "      <th>0</th>\n",
       "      <td>GOOG</td>\n",
       "      <td>Sam</td>\n",
       "      <td>200</td>\n",
       "    </tr>\n",
       "    <tr>\n",
       "      <th>1</th>\n",
       "      <td>GOOG</td>\n",
       "      <td>Charlie</td>\n",
       "      <td>120</td>\n",
       "    </tr>\n",
       "    <tr>\n",
       "      <th>2</th>\n",
       "      <td>MSFT</td>\n",
       "      <td>Amy</td>\n",
       "      <td>340</td>\n",
       "    </tr>\n",
       "    <tr>\n",
       "      <th>3</th>\n",
       "      <td>MSFT</td>\n",
       "      <td>Vanessa</td>\n",
       "      <td>124</td>\n",
       "    </tr>\n",
       "    <tr>\n",
       "      <th>4</th>\n",
       "      <td>FB</td>\n",
       "      <td>Carl</td>\n",
       "      <td>243</td>\n",
       "    </tr>\n",
       "    <tr>\n",
       "      <th>5</th>\n",
       "      <td>FB</td>\n",
       "      <td>Sarah</td>\n",
       "      <td>350</td>\n",
       "    </tr>\n",
       "  </tbody>\n",
       "</table>\n",
       "</div>"
      ],
      "text/plain": [
       "  Company   Person  Sale\n",
       "0    GOOG      Sam   200\n",
       "1    GOOG  Charlie   120\n",
       "2    MSFT      Amy   340\n",
       "3    MSFT  Vanessa   124\n",
       "4      FB     Carl   243\n",
       "5      FB    Sarah   350"
      ]
     },
     "execution_count": 129,
     "metadata": {},
     "output_type": "execute_result"
    }
   ],
   "source": [
    "df"
   ]
  },
  {
   "cell_type": "code",
   "execution_count": 130,
   "metadata": {},
   "outputs": [],
   "source": [
    "byComp = df.groupby('Company')"
   ]
  },
  {
   "cell_type": "code",
   "execution_count": 131,
   "metadata": {},
   "outputs": [
    {
     "data": {
      "text/html": [
       "<div>\n",
       "<style scoped>\n",
       "    .dataframe tbody tr th:only-of-type {\n",
       "        vertical-align: middle;\n",
       "    }\n",
       "\n",
       "    .dataframe tbody tr th {\n",
       "        vertical-align: top;\n",
       "    }\n",
       "\n",
       "    .dataframe thead th {\n",
       "        text-align: right;\n",
       "    }\n",
       "</style>\n",
       "<table border=\"1\" class=\"dataframe\">\n",
       "  <thead>\n",
       "    <tr style=\"text-align: right;\">\n",
       "      <th></th>\n",
       "      <th>Sale</th>\n",
       "    </tr>\n",
       "    <tr>\n",
       "      <th>Company</th>\n",
       "      <th></th>\n",
       "    </tr>\n",
       "  </thead>\n",
       "  <tbody>\n",
       "    <tr>\n",
       "      <th>FB</th>\n",
       "      <td>296.5</td>\n",
       "    </tr>\n",
       "    <tr>\n",
       "      <th>GOOG</th>\n",
       "      <td>160.0</td>\n",
       "    </tr>\n",
       "    <tr>\n",
       "      <th>MSFT</th>\n",
       "      <td>232.0</td>\n",
       "    </tr>\n",
       "  </tbody>\n",
       "</table>\n",
       "</div>"
      ],
      "text/plain": [
       "          Sale\n",
       "Company       \n",
       "FB       296.5\n",
       "GOOG     160.0\n",
       "MSFT     232.0"
      ]
     },
     "execution_count": 131,
     "metadata": {},
     "output_type": "execute_result"
    }
   ],
   "source": [
    "byComp.mean()"
   ]
  },
  {
   "cell_type": "code",
   "execution_count": 132,
   "metadata": {},
   "outputs": [
    {
     "data": {
      "text/plain": [
       "Sale    593\n",
       "Name: FB, dtype: int64"
      ]
     },
     "execution_count": 132,
     "metadata": {},
     "output_type": "execute_result"
    }
   ],
   "source": [
    "byComp.sum().loc['FB']"
   ]
  },
  {
   "cell_type": "code",
   "execution_count": 133,
   "metadata": {},
   "outputs": [
    {
     "data": {
      "text/plain": [
       "Sale    593\n",
       "Name: FB, dtype: int64"
      ]
     },
     "execution_count": 133,
     "metadata": {},
     "output_type": "execute_result"
    }
   ],
   "source": [
    "df.groupby('Company').sum().loc['FB']"
   ]
  },
  {
   "cell_type": "code",
   "execution_count": 134,
   "metadata": {},
   "outputs": [
    {
     "data": {
      "text/html": [
       "<div>\n",
       "<style scoped>\n",
       "    .dataframe tbody tr th:only-of-type {\n",
       "        vertical-align: middle;\n",
       "    }\n",
       "\n",
       "    .dataframe tbody tr th {\n",
       "        vertical-align: top;\n",
       "    }\n",
       "\n",
       "    .dataframe thead tr th {\n",
       "        text-align: left;\n",
       "    }\n",
       "\n",
       "    .dataframe thead tr:last-of-type th {\n",
       "        text-align: right;\n",
       "    }\n",
       "</style>\n",
       "<table border=\"1\" class=\"dataframe\">\n",
       "  <thead>\n",
       "    <tr>\n",
       "      <th></th>\n",
       "      <th colspan=\"8\" halign=\"left\">Sale</th>\n",
       "    </tr>\n",
       "    <tr>\n",
       "      <th></th>\n",
       "      <th>count</th>\n",
       "      <th>mean</th>\n",
       "      <th>std</th>\n",
       "      <th>min</th>\n",
       "      <th>25%</th>\n",
       "      <th>50%</th>\n",
       "      <th>75%</th>\n",
       "      <th>max</th>\n",
       "    </tr>\n",
       "    <tr>\n",
       "      <th>Company</th>\n",
       "      <th></th>\n",
       "      <th></th>\n",
       "      <th></th>\n",
       "      <th></th>\n",
       "      <th></th>\n",
       "      <th></th>\n",
       "      <th></th>\n",
       "      <th></th>\n",
       "    </tr>\n",
       "  </thead>\n",
       "  <tbody>\n",
       "    <tr>\n",
       "      <th>FB</th>\n",
       "      <td>2.0</td>\n",
       "      <td>296.5</td>\n",
       "      <td>75.660426</td>\n",
       "      <td>243.0</td>\n",
       "      <td>269.75</td>\n",
       "      <td>296.5</td>\n",
       "      <td>323.25</td>\n",
       "      <td>350.0</td>\n",
       "    </tr>\n",
       "    <tr>\n",
       "      <th>GOOG</th>\n",
       "      <td>2.0</td>\n",
       "      <td>160.0</td>\n",
       "      <td>56.568542</td>\n",
       "      <td>120.0</td>\n",
       "      <td>140.00</td>\n",
       "      <td>160.0</td>\n",
       "      <td>180.00</td>\n",
       "      <td>200.0</td>\n",
       "    </tr>\n",
       "    <tr>\n",
       "      <th>MSFT</th>\n",
       "      <td>2.0</td>\n",
       "      <td>232.0</td>\n",
       "      <td>152.735065</td>\n",
       "      <td>124.0</td>\n",
       "      <td>178.00</td>\n",
       "      <td>232.0</td>\n",
       "      <td>286.00</td>\n",
       "      <td>340.0</td>\n",
       "    </tr>\n",
       "  </tbody>\n",
       "</table>\n",
       "</div>"
      ],
      "text/plain": [
       "         Sale                                                        \n",
       "        count   mean         std    min     25%    50%     75%    max\n",
       "Company                                                              \n",
       "FB        2.0  296.5   75.660426  243.0  269.75  296.5  323.25  350.0\n",
       "GOOG      2.0  160.0   56.568542  120.0  140.00  160.0  180.00  200.0\n",
       "MSFT      2.0  232.0  152.735065  124.0  178.00  232.0  286.00  340.0"
      ]
     },
     "execution_count": 134,
     "metadata": {},
     "output_type": "execute_result"
    }
   ],
   "source": [
    "df.groupby('Company').describe()#.transpose()\n"
   ]
  },
  {
   "cell_type": "code",
   "execution_count": 135,
   "metadata": {},
   "outputs": [
    {
     "data": {
      "text/plain": [
       "Sale  count      2.000000\n",
       "      mean     296.500000\n",
       "      std       75.660426\n",
       "      min      243.000000\n",
       "      25%      269.750000\n",
       "      50%      296.500000\n",
       "      75%      323.250000\n",
       "      max      350.000000\n",
       "Name: FB, dtype: float64"
      ]
     },
     "execution_count": 135,
     "metadata": {},
     "output_type": "execute_result"
    }
   ],
   "source": [
    "df.groupby('Company').describe().transpose()['FB']"
   ]
  },
  {
   "cell_type": "markdown",
   "metadata": {},
   "source": [
    "## Merging,Joining and Concantenating"
   ]
  },
  {
   "cell_type": "markdown",
   "metadata": {},
   "source": [
    "Concantenation glues together the dataframes."
   ]
  },
  {
   "cell_type": "markdown",
   "metadata": {},
   "source": [
    "We use pd.concantenate([ ]) and pass the list of dataframes you want to pass.\n",
    "specifying the correct axes \n"
   ]
  },
  {
   "cell_type": "markdown",
   "metadata": {},
   "source": [
    "Merging function allows you to merge dataframes together using a similar logic as merging SQL dataframes.\n",
    "pd.merge(df1,df2,on='key column')\n",
    ".....!must review merge with sql to understand sql syntax."
   ]
  },
  {
   "cell_type": "markdown",
   "metadata": {},
   "source": [
    "Joining is a convenient method for combining columns of two potentitally differently-indexed Dataframes into a single result dataFrame.\n",
    "df1.join(df2)\n",
    "this is done on different index df"
   ]
  },
  {
   "cell_type": "markdown",
   "metadata": {},
   "source": [
    "## Operations"
   ]
  },
  {
   "cell_type": "code",
   "execution_count": 136,
   "metadata": {},
   "outputs": [],
   "source": [
    "import numpy as np\n",
    "import pandas as pd"
   ]
  },
  {
   "cell_type": "code",
   "execution_count": 137,
   "metadata": {},
   "outputs": [
    {
     "data": {
      "text/html": [
       "<div>\n",
       "<style scoped>\n",
       "    .dataframe tbody tr th:only-of-type {\n",
       "        vertical-align: middle;\n",
       "    }\n",
       "\n",
       "    .dataframe tbody tr th {\n",
       "        vertical-align: top;\n",
       "    }\n",
       "\n",
       "    .dataframe thead th {\n",
       "        text-align: right;\n",
       "    }\n",
       "</style>\n",
       "<table border=\"1\" class=\"dataframe\">\n",
       "  <thead>\n",
       "    <tr style=\"text-align: right;\">\n",
       "      <th></th>\n",
       "      <th>col1</th>\n",
       "      <th>col2</th>\n",
       "      <th>col3</th>\n",
       "    </tr>\n",
       "  </thead>\n",
       "  <tbody>\n",
       "    <tr>\n",
       "      <th>0</th>\n",
       "      <td>1</td>\n",
       "      <td>444</td>\n",
       "      <td>abc</td>\n",
       "    </tr>\n",
       "    <tr>\n",
       "      <th>1</th>\n",
       "      <td>2</td>\n",
       "      <td>555</td>\n",
       "      <td>def</td>\n",
       "    </tr>\n",
       "    <tr>\n",
       "      <th>2</th>\n",
       "      <td>3</td>\n",
       "      <td>666</td>\n",
       "      <td>ghi</td>\n",
       "    </tr>\n",
       "    <tr>\n",
       "      <th>3</th>\n",
       "      <td>5</td>\n",
       "      <td>444</td>\n",
       "      <td>xyz</td>\n",
       "    </tr>\n",
       "  </tbody>\n",
       "</table>\n",
       "</div>"
      ],
      "text/plain": [
       "   col1  col2 col3\n",
       "0     1   444  abc\n",
       "1     2   555  def\n",
       "2     3   666  ghi\n",
       "3     5   444  xyz"
      ]
     },
     "execution_count": 137,
     "metadata": {},
     "output_type": "execute_result"
    }
   ],
   "source": [
    "df = pd.DataFrame({'col1':[1,2,3,5],\n",
    "                  'col2':[444,555,666,444],\n",
    "                  'col3':['abc','def','ghi','xyz']})\n",
    "df.head()"
   ]
  },
  {
   "cell_type": "code",
   "execution_count": 138,
   "metadata": {},
   "outputs": [
    {
     "data": {
      "text/plain": [
       "array([444, 555, 666], dtype=int64)"
      ]
     },
     "execution_count": 138,
     "metadata": {},
     "output_type": "execute_result"
    }
   ],
   "source": [
    "df['col2'].unique() #Returns a set of unique values.\n",
    "# df['col2'].nunique()#Returns the number of unique values."
   ]
  },
  {
   "cell_type": "code",
   "execution_count": 139,
   "metadata": {},
   "outputs": [
    {
     "data": {
      "text/plain": [
       "444    2\n",
       "666    1\n",
       "555    1\n",
       "Name: col2, dtype: int64"
      ]
     },
     "execution_count": 139,
     "metadata": {},
     "output_type": "execute_result"
    }
   ],
   "source": [
    "df['col2'].value_counts()#returns how many times a unique value appears."
   ]
  },
  {
   "cell_type": "code",
   "execution_count": 140,
   "metadata": {},
   "outputs": [
    {
     "data": {
      "text/plain": [
       "0     888\n",
       "1    1110\n",
       "2    1332\n",
       "3     888\n",
       "Name: col2, dtype: int64"
      ]
     },
     "execution_count": 140,
     "metadata": {},
     "output_type": "execute_result"
    }
   ],
   "source": [
    "#applying custom len expressions \n",
    "df['col2'].apply(lambda x:x*2)"
   ]
  },
  {
   "cell_type": "code",
   "execution_count": 141,
   "metadata": {},
   "outputs": [
    {
     "data": {
      "text/html": [
       "<div>\n",
       "<style scoped>\n",
       "    .dataframe tbody tr th:only-of-type {\n",
       "        vertical-align: middle;\n",
       "    }\n",
       "\n",
       "    .dataframe tbody tr th {\n",
       "        vertical-align: top;\n",
       "    }\n",
       "\n",
       "    .dataframe thead th {\n",
       "        text-align: right;\n",
       "    }\n",
       "</style>\n",
       "<table border=\"1\" class=\"dataframe\">\n",
       "  <thead>\n",
       "    <tr style=\"text-align: right;\">\n",
       "      <th></th>\n",
       "      <th>col1</th>\n",
       "      <th>col2</th>\n",
       "      <th>col3</th>\n",
       "    </tr>\n",
       "  </thead>\n",
       "  <tbody>\n",
       "    <tr>\n",
       "      <th>0</th>\n",
       "      <td>1</td>\n",
       "      <td>444</td>\n",
       "      <td>abc</td>\n",
       "    </tr>\n",
       "    <tr>\n",
       "      <th>3</th>\n",
       "      <td>5</td>\n",
       "      <td>444</td>\n",
       "      <td>xyz</td>\n",
       "    </tr>\n",
       "    <tr>\n",
       "      <th>1</th>\n",
       "      <td>2</td>\n",
       "      <td>555</td>\n",
       "      <td>def</td>\n",
       "    </tr>\n",
       "    <tr>\n",
       "      <th>2</th>\n",
       "      <td>3</td>\n",
       "      <td>666</td>\n",
       "      <td>ghi</td>\n",
       "    </tr>\n",
       "  </tbody>\n",
       "</table>\n",
       "</div>"
      ],
      "text/plain": [
       "   col1  col2 col3\n",
       "0     1   444  abc\n",
       "3     5   444  xyz\n",
       "1     2   555  def\n",
       "2     3   666  ghi"
      ]
     },
     "execution_count": 141,
     "metadata": {},
     "output_type": "execute_result"
    }
   ],
   "source": [
    "df.sort_values(by='col2')"
   ]
  },
  {
   "cell_type": "markdown",
   "metadata": {},
   "source": [
    "## Data input and output "
   ]
  },
  {
   "cell_type": "code",
   "execution_count": 142,
   "metadata": {},
   "outputs": [],
   "source": [
    "import pandas as pd"
   ]
  },
  {
   "cell_type": "markdown",
   "metadata": {},
   "source": [
    "# Matplot lib"
   ]
  },
  {
   "cell_type": "code",
   "execution_count": 181,
   "metadata": {},
   "outputs": [],
   "source": [
    "import matplotlib.pyplot as plt\n"
   ]
  },
  {
   "cell_type": "code",
   "execution_count": 182,
   "metadata": {},
   "outputs": [],
   "source": [
    "%matplotlib inline"
   ]
  },
  {
   "cell_type": "code",
   "execution_count": 183,
   "metadata": {},
   "outputs": [],
   "source": [
    "import numpy as np \n",
    "x= np.linspace(0,5,11)\n",
    "y = x**2"
   ]
  },
  {
   "cell_type": "code",
   "execution_count": 184,
   "metadata": {},
   "outputs": [
    {
     "data": {
      "text/plain": [
       "Text(0, 0.5, 'Y label')"
      ]
     },
     "execution_count": 184,
     "metadata": {},
     "output_type": "execute_result"
    },
    {
     "data": {
      "image/png": "[encoded data removed]",
      "text/plain": [
       "<Figure size 432x288 with 1 Axes>"
      ]
     },
     "metadata": {
      "needs_background": "light"
     },
     "output_type": "display_data"
    }
   ],
   "source": [
    "#Functional method of creating plots\n",
    "plt.plot(x,y)\n",
    "plt.xlabel('X label')\n",
    "plt.ylabel('Y label')"
   ]
  },
  {
   "cell_type": "code",
   "execution_count": 185,
   "metadata": {},
   "outputs": [
    {
     "data": {
      "text/plain": [
       "[<matplotlib.lines.Line2D at 0x265acf45e50>]"
      ]
     },
     "execution_count": 185,
     "metadata": {},
     "output_type": "execute_result"
    },
    {
     "data": {
      "image/png": "[encoded data removed]",
      "text/plain": [
       "<Figure size 432x288 with 2 Axes>"
      ]
     },
     "metadata": {
      "needs_background": "light"
     },
     "output_type": "display_data"
    }
   ],
   "source": [
    "plt.subplot(1,2,1)\n",
    "plt.plot(x,y,'r')\n",
    "\n",
    "plt.subplot(1,2,2)\n",
    "plt.plot(y,x,'b')"
   ]
  },
  {
   "cell_type": "code",
   "execution_count": 186,
   "metadata": {},
   "outputs": [
    {
     "data": {
      "text/plain": [
       "Text(0, 0.5, 'Y label')"
      ]
     },
     "execution_count": 186,
     "metadata": {},
     "output_type": "execute_result"
    },
    {
     "data": {
      "image/png": "[encoded data removed]",
      "text/plain": [
       "<Figure size 432x288 with 1 Axes>"
      ]
     },
     "metadata": {
      "needs_background": "light"
     },
     "output_type": "display_data"
    }
   ],
   "source": [
    "#Using Object oriented Method\n",
    "fig = plt.figure()\n",
    "axes = fig.add_axes([0.1,0.1,0.8,0.8])\n",
    "axes.plot(x,y)\n",
    "axes.set_title('Set title')\n",
    "axes.set_xlabel('X label')\n",
    "axes.set_ylabel('Y label')"
   ]
  },
  {
   "cell_type": "code",
   "execution_count": 187,
   "metadata": {},
   "outputs": [],
   "source": [
    "#left ,bottom, width , height should be between 0 and 1"
   ]
  },
  {
   "cell_type": "code",
   "execution_count": 188,
   "metadata": {},
   "outputs": [
    {
     "data": {
      "text/plain": [
       "[<matplotlib.lines.Line2D at 0x265ad03fc10>]"
      ]
     },
     "execution_count": 188,
     "metadata": {},
     "output_type": "execute_result"
    },
    {
     "data": {
      "image/png": "[encoded data removed]",
      "text/plain": [
       "<Figure size 432x288 with 2 Axes>"
      ]
     },
     "metadata": {
      "needs_background": "light"
     },
     "output_type": "display_data"
    }
   ],
   "source": [
    "fig = plt.figure()\n",
    "axes1 = fig.add_axes([0.1,0.1,0.8,0.8])\n",
    "axes1.set_title(\"larger plot\")\n",
    "axes1.plot(x,y)\n",
    "\n",
    "axes2 = fig.add_axes([0.2,0.5,0.4,0.2])\n",
    "axes2.set_title('Smaller plot')\n",
    "axes2.plot(y,x,'r')"
   ]
  },
  {
   "cell_type": "code",
   "execution_count": 189,
   "metadata": {},
   "outputs": [
    {
     "data": {
      "text/plain": [
       "Text(0.5, 1.0, 'Second plot')"
      ]
     },
     "execution_count": 189,
     "metadata": {},
     "output_type": "execute_result"
    },
    {
     "data": {
      "image/png": "[encoded data removed]",
      "text/plain": [
       "<Figure size 432x288 with 2 Axes>"
      ]
     },
     "metadata": {
      "needs_background": "light"
     },
     "output_type": "display_data"
    }
   ],
   "source": [
    "fig,axes = plt.subplots(nrows=1,ncols=2)\n",
    "\n",
    "axes[0].plot(x,y)\n",
    "axes[0].set_title(\"First plot\")\n",
    "\n",
    "axes[1].plot(y,x)\n",
    "axes[1].set_title(\"Second plot\")"
   ]
  },
  {
   "cell_type": "code",
   "execution_count": 190,
   "metadata": {},
   "outputs": [
    {
     "data": {
      "text/plain": [
       "array([<AxesSubplot:title={'center':'First plot'}>,\n",
       "       <AxesSubplot:title={'center':'Second plot'}>], dtype=object)"
      ]
     },
     "execution_count": 190,
     "metadata": {},
     "output_type": "execute_result"
    }
   ],
   "source": [
    "axes"
   ]
  },
  {
   "cell_type": "markdown",
   "metadata": {},
   "source": [
    "## Figure size and DPI"
   ]
  },
  {
   "cell_type": "code",
   "execution_count": 191,
   "metadata": {},
   "outputs": [],
   "source": [
    "#DPI is dots/pixels per inch "
   ]
  },
  {
   "cell_type": "code",
   "execution_count": 192,
   "metadata": {},
   "outputs": [
    {
     "data": {
      "text/plain": [
       "[<matplotlib.lines.Line2D at 0x265ad144190>]"
      ]
     },
     "execution_count": 192,
     "metadata": {},
     "output_type": "execute_result"
    },
    {
     "data": {
      "image/png": "[encoded data removed]",
      "text/plain": [
       "<Figure size 576x144 with 1 Axes>"
      ]
     },
     "metadata": {
      "needs_background": "light"
     },
     "output_type": "display_data"
    }
   ],
   "source": [
    "fig = plt.figure(figsize=(8,2))\n",
    "ax = fig.add_axes([0,0,1,1])\n",
    "ax.plot(x,y)"
   ]
  },
  {
   "cell_type": "code",
   "execution_count": 193,
   "metadata": {},
   "outputs": [
    {
     "data": {
      "image/png": "[encoded data removed]",
      "text/plain": [
       "<Figure size 576x144 with 2 Axes>"
      ]
     },
     "metadata": {
      "needs_background": "light"
     },
     "output_type": "display_data"
    }
   ],
   "source": [
    "fig,axes = plt.subplots(nrows=2,ncols=1,figsize=(8,2))\n",
    "\n",
    "axes[0].plot(x,y)\n",
    "\n",
    "axes[1].plot(y,x)\n",
    "plt.tight_layout()"
   ]
  },
  {
   "cell_type": "code",
   "execution_count": 194,
   "metadata": {},
   "outputs": [],
   "source": [
    "fig.savefig(\"my_pic.png\",dpi=200)"
   ]
  },
  {
   "cell_type": "code",
   "execution_count": 195,
   "metadata": {},
   "outputs": [
    {
     "data": {
      "text/plain": [
       "<matplotlib.legend.Legend at 0x265ad1d0610>"
      ]
     },
     "execution_count": 195,
     "metadata": {},
     "output_type": "execute_result"
    },
    {
     "data": {
      "image/png": "[encoded data removed]",
      "text/plain": [
       "<Figure size 432x288 with 1 Axes>"
      ]
     },
     "metadata": {
      "needs_background": "light"
     },
     "output_type": "display_data"
    }
   ],
   "source": [
    "fig = plt.figure()\n",
    "ax = fig.add_axes([0,0,1,1])\n",
    "#ax.plot(x,y)\n",
    "#ax.plot(y,x)\n",
    "ax.plot(x,x**2,label=\"x squared\")\n",
    "\n",
    "ax.plot(x,x**3,label = \"x cubed\")\n",
    "\n",
    "ax.legend(loc=0)"
   ]
  },
  {
   "cell_type": "markdown",
   "metadata": {},
   "source": [
    "## Plot appearance "
   ]
  },
  {
   "cell_type": "code",
   "execution_count": 196,
   "metadata": {},
   "outputs": [
    {
     "data": {
      "text/plain": [
       "[<matplotlib.lines.Line2D at 0x265ae4e8250>]"
      ]
     },
     "execution_count": 196,
     "metadata": {},
     "output_type": "execute_result"
    },
    {
     "data": {
      "image/png": "[encoded data removed]",
      "text/plain": [
       "<Figure size 432x288 with 1 Axes>"
      ]
     },
     "metadata": {
      "needs_background": "light"
     },
     "output_type": "display_data"
    }
   ],
   "source": [
    "fig = plt.figure()\n",
    "ax = fig.add_axes([0,0,1,1])\n",
    "ax.plot(x,y,color=\"blue\",linewidth=3,alpha= 0.5,ls=\"-\",marker=\"o\",markersize=10,\n",
    "       markerfacecolor=\"black\")#lw=for linewidth\n",
    "#ls is for linestyle\n"
   ]
  },
  {
   "cell_type": "code",
   "execution_count": 197,
   "metadata": {},
   "outputs": [
    {
     "data": {
      "text/plain": [
       "(0.0, 2.0)"
      ]
     },
     "execution_count": 197,
     "metadata": {},
     "output_type": "execute_result"
    },
    {
     "data": {
      "image/png": "[encoded data removed]",
      "text/plain": [
       "<Figure size 432x288 with 1 Axes>"
      ]
     },
     "metadata": {
      "needs_background": "light"
     },
     "output_type": "display_data"
    }
   ],
   "source": [
    "fig = plt.figure()\n",
    "ax = fig.add_axes([0,0,1,1])\n",
    "ax.plot(x,y,ls=\"--\",lw=\"3\",color=\"yellow\")\n",
    "\n",
    "ax.set_xlim([0,1])\n",
    "ax.set_ylim([0,2])\n",
    "#xlim is for zooming in between plots "
   ]
  },
  {
   "cell_type": "code",
   "execution_count": 223,
   "metadata": {},
   "outputs": [],
   "source": [
    "import numpy as np\n",
    "import pandas as pd \n",
    "import matplotlib as plt\n",
    "%matplotlib notebook"
   ]
  },
  {
   "cell_type": "code",
   "execution_count": 224,
   "metadata": {
    "scrolled": true
   },
   "outputs": [],
   "source": [
    "mc=pd.read_csv(\"mcdonalds.csv\",index_col=\"Date\",parse_dates= True)"
   ]
  },
  {
   "cell_type": "code",
   "execution_count": 225,
   "metadata": {},
   "outputs": [
    {
     "data": {
      "text/html": [
       "<div>\n",
       "<style scoped>\n",
       "    .dataframe tbody tr th:only-of-type {\n",
       "        vertical-align: middle;\n",
       "    }\n",
       "\n",
       "    .dataframe tbody tr th {\n",
       "        vertical-align: top;\n",
       "    }\n",
       "\n",
       "    .dataframe thead th {\n",
       "        text-align: right;\n",
       "    }\n",
       "</style>\n",
       "<table border=\"1\" class=\"dataframe\">\n",
       "  <thead>\n",
       "    <tr style=\"text-align: right;\">\n",
       "      <th></th>\n",
       "      <th>Adj. Close</th>\n",
       "      <th>Adj. Volume</th>\n",
       "    </tr>\n",
       "    <tr>\n",
       "      <th>Date</th>\n",
       "      <th></th>\n",
       "      <th></th>\n",
       "    </tr>\n",
       "  </thead>\n",
       "  <tbody>\n",
       "    <tr>\n",
       "      <th>1970-01-02</th>\n",
       "      <td>0.209761</td>\n",
       "      <td>2825604.0</td>\n",
       "    </tr>\n",
       "    <tr>\n",
       "      <th>1970-01-05</th>\n",
       "      <td>0.213316</td>\n",
       "      <td>2210449.5</td>\n",
       "    </tr>\n",
       "    <tr>\n",
       "      <th>1970-01-06</th>\n",
       "      <td>0.214501</td>\n",
       "      <td>1951168.5</td>\n",
       "    </tr>\n",
       "    <tr>\n",
       "      <th>1970-01-07</th>\n",
       "      <td>0.213316</td>\n",
       "      <td>2728768.5</td>\n",
       "    </tr>\n",
       "    <tr>\n",
       "      <th>1970-01-08</th>\n",
       "      <td>0.213316</td>\n",
       "      <td>2242404.0</td>\n",
       "    </tr>\n",
       "  </tbody>\n",
       "</table>\n",
       "</div>"
      ],
      "text/plain": [
       "            Adj. Close  Adj. Volume\n",
       "Date                               \n",
       "1970-01-02    0.209761    2825604.0\n",
       "1970-01-05    0.213316    2210449.5\n",
       "1970-01-06    0.214501    1951168.5\n",
       "1970-01-07    0.213316    2728768.5\n",
       "1970-01-08    0.213316    2242404.0"
      ]
     },
     "execution_count": 225,
     "metadata": {},
     "output_type": "execute_result"
    }
   ],
   "source": [
    "mc.head()"
   ]
  },
  {
   "cell_type": "code",
   "execution_count": 226,
   "metadata": {},
   "outputs": [
    {
     "data": {
      "application/javascript": [
       "/* Put everything inside the global mpl namespace */\n",
       "/* global mpl */\n",
       "window.mpl = {};\n",
       "\n",
       "mpl.get_websocket_type = function () {\n",
       "    if (typeof WebSocket !== 'undefined') {\n",
       "        return WebSocket;\n",
       "    } else if (typeof MozWebSocket !== 'undefined') {\n",
       "        return MozWebSocket;\n",
       "    } else {\n",
       "        alert(\n",
       "            'Your browser does not have WebSocket support. ' +\n",
       "                'Please try Chrome, Safari or Firefox ≥ 6. ' +\n",
       "                'Firefox 4 and 5 are also supported but you ' +\n",
       "                'have to enable WebSockets in about:config.'\n",
       "        );\n",
       "    }\n",
       "};\n",
       "\n",
       "mpl.figure = function (figure_id, websocket, ondownload, parent_element) {\n",
       "    this.id = figure_id;\n",
       "\n",
       "    this.ws = websocket;\n",
       "\n",
       "    this.supports_binary = this.ws.binaryType !== undefined;\n",
       "\n",
       "    if (!this.supports_binary) {\n",
       "        var warnings = document.getElementById('mpl-warnings');\n",
       "        if (warnings) {\n",
       "            warnings.style.display = 'block';\n",
       "            warnings.textContent =\n",
       "                'This browser does not support binary websocket messages. ' +\n",
       "                'Performance may be slow.';\n",
       "        }\n",
       "    }\n",
       "\n",
       "    this.imageObj = new Image();\n",
       "\n",
       "    this.context = undefined;\n",
       "    this.message = undefined;\n",
       "    this.canvas = undefined;\n",
       "    this.rubberband_canvas = undefined;\n",
       "    this.rubberband_context = undefined;\n",
       "    this.format_dropdown = undefined;\n",
       "\n",
       "    this.image_mode = 'full';\n",
       "\n",
       "    this.root = document.createElement('div');\n",
       "    this.root.setAttribute('style', 'display: inline-block');\n",
       "    this._root_extra_style(this.root);\n",
       "\n",
       "    parent_element.appendChild(this.root);\n",
       "\n",
       "    this._init_header(this);\n",
       "    this._init_canvas(this);\n",
       "    this._init_toolbar(this);\n",
       "\n",
       "    var fig = this;\n",
       "\n",
       "    this.waiting = false;\n",
       "\n",
       "    this.ws.onopen = function () {\n",
       "        fig.send_message('supports_binary', { value: fig.supports_binary });\n",
       "        fig.send_message('send_image_mode', {});\n",
       "        if (fig.ratio !== 1) {\n",
       "            fig.send_message('set_dpi_ratio', { dpi_ratio: fig.ratio });\n",
       "        }\n",
       "        fig.send_message('refresh', {});\n",
       "    };\n",
       "\n",
       "    this.imageObj.onload = function () {\n",
       "        if (fig.image_mode === 'full') {\n",
       "            // Full images could contain transparency (where diff images\n",
       "            // almost always do), so we need to clear the canvas so that\n",
       "            // there is no ghosting.\n",
       "            fig.context.clearRect(0, 0, fig.canvas.width, fig.canvas.height);\n",
       "        }\n",
       "        fig.context.drawImage(fig.imageObj, 0, 0);\n",
       "    };\n",
       "\n",
       "    this.imageObj.onunload = function () {\n",
       "        fig.ws.close();\n",
       "    };\n",
       "\n",
       "    this.ws.onmessage = this._make_on_message_function(this);\n",
       "\n",
       "    this.ondownload = ondownload;\n",
       "};\n",
       "\n",
       "mpl.figure.prototype._init_header = function () {\n",
       "    var titlebar = document.createElement('div');\n",
       "    titlebar.classList =\n",
       "        'ui-dialog-titlebar ui-widget-header ui-corner-all ui-helper-clearfix';\n",
       "    var titletext = document.createElement('div');\n",
       "    titletext.classList = 'ui-dialog-title';\n",
       "    titletext.setAttribute(\n",
       "        'style',\n",
       "        'width: 100%; text-align: center; padding: 3px;'\n",
       "    );\n",
       "    titlebar.appendChild(titletext);\n",
       "    this.root.appendChild(titlebar);\n",
       "    this.header = titletext;\n",
       "};\n",
       "\n",
       "mpl.figure.prototype._canvas_extra_style = function (_canvas_div) {};\n",
       "\n",
       "mpl.figure.prototype._root_extra_style = function (_canvas_div) {};\n",
       "\n",
       "mpl.figure.prototype._init_canvas = function () {\n",
       "    var fig = this;\n",
       "\n",
       "    var canvas_div = (this.canvas_div = document.createElement('div'));\n",
       "    canvas_div.setAttribute(\n",
       "        'style',\n",
       "        'border: 1px solid #ddd;' +\n",
       "            'box-sizing: content-box;' +\n",
       "            'clear: both;' +\n",
       "            'min-height: 1px;' +\n",
       "            'min-width: 1px;' +\n",
       "            'outline: 0;' +\n",
       "            'overflow: hidden;' +\n",
       "            'position: relative;' +\n",
       "            'resize: both;'\n",
       "    );\n",
       "\n",
       "    function on_keyboard_event_closure(name) {\n",
       "        return function (event) {\n",
       "            return fig.key_event(event, name);\n",
       "        };\n",
       "    }\n",
       "\n",
       "    canvas_div.addEventListener(\n",
       "        'keydown',\n",
       "        on_keyboard_event_closure('key_press')\n",
       "    );\n",
       "    canvas_div.addEventListener(\n",
       "        'keyup',\n",
       "        on_keyboard_event_closure('key_release')\n",
       "    );\n",
       "\n",
       "    this._canvas_extra_style(canvas_div);\n",
       "    this.root.appendChild(canvas_div);\n",
       "\n",
       "    var canvas = (this.canvas = document.createElement('canvas'));\n",
       "    canvas.classList.add('mpl-canvas');\n",
       "    canvas.setAttribute('style', 'box-sizing: content-box;');\n",
       "\n",
       "    this.context = canvas.getContext('2d');\n",
       "\n",
       "    var backingStore =\n",
       "        this.context.backingStorePixelRatio ||\n",
       "        this.context.webkitBackingStorePixelRatio ||\n",
       "        this.context.mozBackingStorePixelRatio ||\n",
       "        this.context.msBackingStorePixelRatio ||\n",
       "        this.context.oBackingStorePixelRatio ||\n",
       "        this.context.backingStorePixelRatio ||\n",
       "        1;\n",
       "\n",
       "    this.ratio = (window.devicePixelRatio || 1) / backingStore;\n",
       "    if (this.ratio !== 1) {\n",
       "        fig.send_message('set_dpi_ratio', { dpi_ratio: this.ratio });\n",
       "    }\n",
       "\n",
       "    var rubberband_canvas = (this.rubberband_canvas = document.createElement(\n",
       "        'canvas'\n",
       "    ));\n",
       "    rubberband_canvas.setAttribute(\n",
       "        'style',\n",
       "        'box-sizing: content-box; position: absolute; left: 0; top: 0; z-index: 1;'\n",
       "    );\n",
       "\n",
       "    // Apply a ponyfill if ResizeObserver is not implemented by browser.\n",
       "    if (this.ResizeObserver === undefined) {\n",
       "        if (window.ResizeObserver !== undefined) {\n",
       "            this.ResizeObserver = window.ResizeObserver;\n",
       "        } else {\n",
       "            var obs = _JSXTOOLS_RESIZE_OBSERVER({});\n",
       "            this.ResizeObserver = obs.ResizeObserver;\n",
       "        }\n",
       "    }\n",
       "\n",
       "    this.resizeObserverInstance = new this.ResizeObserver(function (entries) {\n",
       "        var nentries = entries.length;\n",
       "        for (var i = 0; i < nentries; i++) {\n",
       "            var entry = entries[i];\n",
       "            var width, height;\n",
       "            if (entry.contentBoxSize) {\n",
       "                if (entry.contentBoxSize instanceof Array) {\n",
       "                    // Chrome 84 implements new version of spec.\n",
       "                    width = entry.contentBoxSize[0].inlineSize;\n",
       "                    height = entry.contentBoxSize[0].blockSize;\n",
       "                } else {\n",
       "                    // Firefox implements old version of spec.\n",
       "                    width = entry.contentBoxSize.inlineSize;\n",
       "                    height = entry.contentBoxSize.blockSize;\n",
       "                }\n",
       "            } else {\n",
       "                // Chrome <84 implements even older version of spec.\n",
       "                width = entry.contentRect.width;\n",
       "                height = entry.contentRect.height;\n",
       "            }\n",
       "\n",
       "            // Keep the size of the canvas and rubber band canvas in sync with\n",
       "            // the canvas container.\n",
       "            if (entry.devicePixelContentBoxSize) {\n",
       "                // Chrome 84 implements new version of spec.\n",
       "                canvas.setAttribute(\n",
       "                    'width',\n",
       "                    entry.devicePixelContentBoxSize[0].inlineSize\n",
       "                );\n",
       "                canvas.setAttribute(\n",
       "                    'height',\n",
       "                    entry.devicePixelContentBoxSize[0].blockSize\n",
       "                );\n",
       "            } else {\n",
       "                canvas.setAttribute('width', width * fig.ratio);\n",
       "                canvas.setAttribute('height', height * fig.ratio);\n",
       "            }\n",
       "            canvas.setAttribute(\n",
       "                'style',\n",
       "                'width: ' + width + 'px; height: ' + height + 'px;'\n",
       "            );\n",
       "\n",
       "            rubberband_canvas.setAttribute('width', width);\n",
       "            rubberband_canvas.setAttribute('height', height);\n",
       "\n",
       "            // And update the size in Python. We ignore the initial 0/0 size\n",
       "            // that occurs as the element is placed into the DOM, which should\n",
       "            // otherwise not happen due to the minimum size styling.\n",
       "            if (width != 0 && height != 0) {\n",
       "                fig.request_resize(width, height);\n",
       "            }\n",
       "        }\n",
       "    });\n",
       "    this.resizeObserverInstance.observe(canvas_div);\n",
       "\n",
       "    function on_mouse_event_closure(name) {\n",
       "        return function (event) {\n",
       "            return fig.mouse_event(event, name);\n",
       "        };\n",
       "    }\n",
       "\n",
       "    rubberband_canvas.addEventListener(\n",
       "        'mousedown',\n",
       "        on_mouse_event_closure('button_press')\n",
       "    );\n",
       "    rubberband_canvas.addEventListener(\n",
       "        'mouseup',\n",
       "        on_mouse_event_closure('button_release')\n",
       "    );\n",
       "    // Throttle sequential mouse events to 1 every 20ms.\n",
       "    rubberband_canvas.addEventListener(\n",
       "        'mousemove',\n",
       "        on_mouse_event_closure('motion_notify')\n",
       "    );\n",
       "\n",
       "    rubberband_canvas.addEventListener(\n",
       "        'mouseenter',\n",
       "        on_mouse_event_closure('figure_enter')\n",
       "    );\n",
       "    rubberband_canvas.addEventListener(\n",
       "        'mouseleave',\n",
       "        on_mouse_event_closure('figure_leave')\n",
       "    );\n",
       "\n",
       "    canvas_div.addEventListener('wheel', function (event) {\n",
       "        if (event.deltaY < 0) {\n",
       "            event.step = 1;\n",
       "        } else {\n",
       "            event.step = -1;\n",
       "        }\n",
       "        on_mouse_event_closure('scroll')(event);\n",
       "    });\n",
       "\n",
       "    canvas_div.appendChild(canvas);\n",
       "    canvas_div.appendChild(rubberband_canvas);\n",
       "\n",
       "    this.rubberband_context = rubberband_canvas.getContext('2d');\n",
       "    this.rubberband_context.strokeStyle = '#000000';\n",
       "\n",
       "    this._resize_canvas = function (width, height, forward) {\n",
       "        if (forward) {\n",
       "            canvas_div.style.width = width + 'px';\n",
       "            canvas_div.style.height = height + 'px';\n",
       "        }\n",
       "    };\n",
       "\n",
       "    // Disable right mouse context menu.\n",
       "    this.rubberband_canvas.addEventListener('contextmenu', function (_e) {\n",
       "        event.preventDefault();\n",
       "        return false;\n",
       "    });\n",
       "\n",
       "    function set_focus() {\n",
       "        canvas.focus();\n",
       "        canvas_div.focus();\n",
       "    }\n",
       "\n",
       "    window.setTimeout(set_focus, 100);\n",
       "};\n",
       "\n",
       "mpl.figure.prototype._init_toolbar = function () {\n",
       "    var fig = this;\n",
       "\n",
       "    var toolbar = document.createElement('div');\n",
       "    toolbar.classList = 'mpl-toolbar';\n",
       "    this.root.appendChild(toolbar);\n",
       "\n",
       "    function on_click_closure(name) {\n",
       "        return function (_event) {\n",
       "            return fig.toolbar_button_onclick(name);\n",
       "        };\n",
       "    }\n",
       "\n",
       "    function on_mouseover_closure(tooltip) {\n",
       "        return function (event) {\n",
       "            if (!event.currentTarget.disabled) {\n",
       "                return fig.toolbar_button_onmouseover(tooltip);\n",
       "            }\n",
       "        };\n",
       "    }\n",
       "\n",
       "    fig.buttons = {};\n",
       "    var buttonGroup = document.createElement('div');\n",
       "    buttonGroup.classList = 'mpl-button-group';\n",
       "    for (var toolbar_ind in mpl.toolbar_items) {\n",
       "        var name = mpl.toolbar_items[toolbar_ind][0];\n",
       "        var tooltip = mpl.toolbar_items[toolbar_ind][1];\n",
       "        var image = mpl.toolbar_items[toolbar_ind][2];\n",
       "        var method_name = mpl.toolbar_items[toolbar_ind][3];\n",
       "\n",
       "        if (!name) {\n",
       "            /* Instead of a spacer, we start a new button group. */\n",
       "            if (buttonGroup.hasChildNodes()) {\n",
       "                toolbar.appendChild(buttonGroup);\n",
       "            }\n",
       "            buttonGroup = document.createElement('div');\n",
       "            buttonGroup.classList = 'mpl-button-group';\n",
       "            continue;\n",
       "        }\n",
       "\n",
       "        var button = (fig.buttons[name] = document.createElement('button'));\n",
       "        button.classList = 'mpl-widget';\n",
       "        button.setAttribute('role', 'button');\n",
       "        button.setAttribute('aria-disabled', 'false');\n",
       "        button.addEventListener('click', on_click_closure(method_name));\n",
       "        button.addEventListener('mouseover', on_mouseover_closure(tooltip));\n",
       "\n",
       "        var icon_img = document.createElement('img');\n",
       "        icon_img.src = '_images/' + image + '.png';\n",
       "        icon_img.srcset = '_images/' + image + '_large.png 2x';\n",
       "        icon_img.alt = tooltip;\n",
       "        button.appendChild(icon_img);\n",
       "\n",
       "        buttonGroup.appendChild(button);\n",
       "    }\n",
       "\n",
       "    if (buttonGroup.hasChildNodes()) {\n",
       "        toolbar.appendChild(buttonGroup);\n",
       "    }\n",
       "\n",
       "    var fmt_picker = document.createElement('select');\n",
       "    fmt_picker.classList = 'mpl-widget';\n",
       "    toolbar.appendChild(fmt_picker);\n",
       "    this.format_dropdown = fmt_picker;\n",
       "\n",
       "    for (var ind in mpl.extensions) {\n",
       "        var fmt = mpl.extensions[ind];\n",
       "        var option = document.createElement('option');\n",
       "        option.selected = fmt === mpl.default_extension;\n",
       "        option.innerHTML = fmt;\n",
       "        fmt_picker.appendChild(option);\n",
       "    }\n",
       "\n",
       "    var status_bar = document.createElement('span');\n",
       "    status_bar.classList = 'mpl-message';\n",
       "    toolbar.appendChild(status_bar);\n",
       "    this.message = status_bar;\n",
       "};\n",
       "\n",
       "mpl.figure.prototype.request_resize = function (x_pixels, y_pixels) {\n",
       "    // Request matplotlib to resize the figure. Matplotlib will then trigger a resize in the client,\n",
       "    // which will in turn request a refresh of the image.\n",
       "    this.send_message('resize', { width: x_pixels, height: y_pixels });\n",
       "};\n",
       "\n",
       "mpl.figure.prototype.send_message = function (type, properties) {\n",
       "    properties['type'] = type;\n",
       "    properties['figure_id'] = this.id;\n",
       "    this.ws.send(JSON.stringify(properties));\n",
       "};\n",
       "\n",
       "mpl.figure.prototype.send_draw_message = function () {\n",
       "    if (!this.waiting) {\n",
       "        this.waiting = true;\n",
       "        this.ws.send(JSON.stringify({ type: 'draw', figure_id: this.id }));\n",
       "    }\n",
       "};\n",
       "\n",
       "mpl.figure.prototype.handle_save = function (fig, _msg) {\n",
       "    var format_dropdown = fig.format_dropdown;\n",
       "    var format = format_dropdown.options[format_dropdown.selectedIndex].value;\n",
       "    fig.ondownload(fig, format);\n",
       "};\n",
       "\n",
       "mpl.figure.prototype.handle_resize = function (fig, msg) {\n",
       "    var size = msg['size'];\n",
       "    if (size[0] !== fig.canvas.width || size[1] !== fig.canvas.height) {\n",
       "        fig._resize_canvas(size[0], size[1], msg['forward']);\n",
       "        fig.send_message('refresh', {});\n",
       "    }\n",
       "};\n",
       "\n",
       "mpl.figure.prototype.handle_rubberband = function (fig, msg) {\n",
       "    var x0 = msg['x0'] / fig.ratio;\n",
       "    var y0 = (fig.canvas.height - msg['y0']) / fig.ratio;\n",
       "    var x1 = msg['x1'] / fig.ratio;\n",
       "    var y1 = (fig.canvas.height - msg['y1']) / fig.ratio;\n",
       "    x0 = Math.floor(x0) + 0.5;\n",
       "    y0 = Math.floor(y0) + 0.5;\n",
       "    x1 = Math.floor(x1) + 0.5;\n",
       "    y1 = Math.floor(y1) + 0.5;\n",
       "    var min_x = Math.min(x0, x1);\n",
       "    var min_y = Math.min(y0, y1);\n",
       "    var width = Math.abs(x1 - x0);\n",
       "    var height = Math.abs(y1 - y0);\n",
       "\n",
       "    fig.rubberband_context.clearRect(\n",
       "        0,\n",
       "        0,\n",
       "        fig.canvas.width / fig.ratio,\n",
       "        fig.canvas.height / fig.ratio\n",
       "    );\n",
       "\n",
       "    fig.rubberband_context.strokeRect(min_x, min_y, width, height);\n",
       "};\n",
       "\n",
       "mpl.figure.prototype.handle_figure_label = function (fig, msg) {\n",
       "    // Updates the figure title.\n",
       "    fig.header.textContent = msg['label'];\n",
       "};\n",
       "\n",
       "mpl.figure.prototype.handle_cursor = function (fig, msg) {\n",
       "    var cursor = msg['cursor'];\n",
       "    switch (cursor) {\n",
       "        case 0:\n",
       "            cursor = 'pointer';\n",
       "            break;\n",
       "        case 1:\n",
       "            cursor = 'default';\n",
       "            break;\n",
       "        case 2:\n",
       "            cursor = 'crosshair';\n",
       "            break;\n",
       "        case 3:\n",
       "            cursor = 'move';\n",
       "            break;\n",
       "    }\n",
       "    fig.rubberband_canvas.style.cursor = cursor;\n",
       "};\n",
       "\n",
       "mpl.figure.prototype.handle_message = function (fig, msg) {\n",
       "    fig.message.textContent = msg['message'];\n",
       "};\n",
       "\n",
       "mpl.figure.prototype.handle_draw = function (fig, _msg) {\n",
       "    // Request the server to send over a new figure.\n",
       "    fig.send_draw_message();\n",
       "};\n",
       "\n",
       "mpl.figure.prototype.handle_image_mode = function (fig, msg) {\n",
       "    fig.image_mode = msg['mode'];\n",
       "};\n",
       "\n",
       "mpl.figure.prototype.handle_history_buttons = function (fig, msg) {\n",
       "    for (var key in msg) {\n",
       "        if (!(key in fig.buttons)) {\n",
       "            continue;\n",
       "        }\n",
       "        fig.buttons[key].disabled = !msg[key];\n",
       "        fig.buttons[key].setAttribute('aria-disabled', !msg[key]);\n",
       "    }\n",
       "};\n",
       "\n",
       "mpl.figure.prototype.handle_navigate_mode = function (fig, msg) {\n",
       "    if (msg['mode'] === 'PAN') {\n",
       "        fig.buttons['Pan'].classList.add('active');\n",
       "        fig.buttons['Zoom'].classList.remove('active');\n",
       "    } else if (msg['mode'] === 'ZOOM') {\n",
       "        fig.buttons['Pan'].classList.remove('active');\n",
       "        fig.buttons['Zoom'].classList.add('active');\n",
       "    } else {\n",
       "        fig.buttons['Pan'].classList.remove('active');\n",
       "        fig.buttons['Zoom'].classList.remove('active');\n",
       "    }\n",
       "};\n",
       "\n",
       "mpl.figure.prototype.updated_canvas_event = function () {\n",
       "    // Called whenever the canvas gets updated.\n",
       "    this.send_message('ack', {});\n",
       "};\n",
       "\n",
       "// A function to construct a web socket function for onmessage handling.\n",
       "// Called in the figure constructor.\n",
       "mpl.figure.prototype._make_on_message_function = function (fig) {\n",
       "    return function socket_on_message(evt) {\n",
       "        if (evt.data instanceof Blob) {\n",
       "            /* FIXME: We get \"Resource interpreted as Image but\n",
       "             * transferred with MIME type text/plain:\" errors on\n",
       "             * Chrome.  But how to set the MIME type?  It doesn't seem\n",
       "             * to be part of the websocket stream */\n",
       "            evt.data.type = 'image/png';\n",
       "\n",
       "            /* Free the memory for the previous frames */\n",
       "            if (fig.imageObj.src) {\n",
       "                (window.URL || window.webkitURL).revokeObjectURL(\n",
       "                    fig.imageObj.src\n",
       "                );\n",
       "            }\n",
       "\n",
       "            fig.imageObj.src = (window.URL || window.webkitURL).createObjectURL(\n",
       "                evt.data\n",
       "            );\n",
       "            fig.updated_canvas_event();\n",
       "            fig.waiting = false;\n",
       "            return;\n",
       "        } else if (\n",
       "            typeof evt.data === 'string' &&\n",
       "            evt.data.slice(0, 21) === 'data:image/png;base64'\n",
       "        ) {\n",
       "            fig.imageObj.src = evt.data;\n",
       "            fig.updated_canvas_event();\n",
       "            fig.waiting = false;\n",
       "            return;\n",
       "        }\n",
       "\n",
       "        var msg = JSON.parse(evt.data);\n",
       "        var msg_type = msg['type'];\n",
       "\n",
       "        // Call the  \"handle_{type}\" callback, which takes\n",
       "        // the figure and JSON message as its only arguments.\n",
       "        try {\n",
       "            var callback = fig['handle_' + msg_type];\n",
       "        } catch (e) {\n",
       "            console.log(\n",
       "                \"No handler for the '\" + msg_type + \"' message type: \",\n",
       "                msg\n",
       "            );\n",
       "            return;\n",
       "        }\n",
       "\n",
       "        if (callback) {\n",
       "            try {\n",
       "                // console.log(\"Handling '\" + msg_type + \"' message: \", msg);\n",
       "                callback(fig, msg);\n",
       "            } catch (e) {\n",
       "                console.log(\n",
       "                    \"Exception inside the 'handler_\" + msg_type + \"' callback:\",\n",
       "                    e,\n",
       "                    e.stack,\n",
       "                    msg\n",
       "                );\n",
       "            }\n",
       "        }\n",
       "    };\n",
       "};\n",
       "\n",
       "// from http://stackoverflow.com/questions/1114465/getting-mouse-location-in-canvas\n",
       "mpl.findpos = function (e) {\n",
       "    //this section is from http://www.quirksmode.org/js/events_properties.html\n",
       "    var targ;\n",
       "    if (!e) {\n",
       "        e = window.event;\n",
       "    }\n",
       "    if (e.target) {\n",
       "        targ = e.target;\n",
       "    } else if (e.srcElement) {\n",
       "        targ = e.srcElement;\n",
       "    }\n",
       "    if (targ.nodeType === 3) {\n",
       "        // defeat Safari bug\n",
       "        targ = targ.parentNode;\n",
       "    }\n",
       "\n",
       "    // pageX,Y are the mouse positions relative to the document\n",
       "    var boundingRect = targ.getBoundingClientRect();\n",
       "    var x = e.pageX - (boundingRect.left + document.body.scrollLeft);\n",
       "    var y = e.pageY - (boundingRect.top + document.body.scrollTop);\n",
       "\n",
       "    return { x: x, y: y };\n",
       "};\n",
       "\n",
       "/*\n",
       " * return a copy of an object with only non-object keys\n",
       " * we need this to avoid circular references\n",
       " * http://stackoverflow.com/a/24161582/3208463\n",
       " */\n",
       "function simpleKeys(original) {\n",
       "    return Object.keys(original).reduce(function (obj, key) {\n",
       "        if (typeof original[key] !== 'object') {\n",
       "            obj[key] = original[key];\n",
       "        }\n",
       "        return obj;\n",
       "    }, {});\n",
       "}\n",
       "\n",
       "mpl.figure.prototype.mouse_event = function (event, name) {\n",
       "    var canvas_pos = mpl.findpos(event);\n",
       "\n",
       "    if (name === 'button_press') {\n",
       "        this.canvas.focus();\n",
       "        this.canvas_div.focus();\n",
       "    }\n",
       "\n",
       "    var x = canvas_pos.x * this.ratio;\n",
       "    var y = canvas_pos.y * this.ratio;\n",
       "\n",
       "    this.send_message(name, {\n",
       "        x: x,\n",
       "        y: y,\n",
       "        button: event.button,\n",
       "        step: event.step,\n",
       "        guiEvent: simpleKeys(event),\n",
       "    });\n",
       "\n",
       "    /* This prevents the web browser from automatically changing to\n",
       "     * the text insertion cursor when the button is pressed.  We want\n",
       "     * to control all of the cursor setting manually through the\n",
       "     * 'cursor' event from matplotlib */\n",
       "    event.preventDefault();\n",
       "    return false;\n",
       "};\n",
       "\n",
       "mpl.figure.prototype._key_event_extra = function (_event, _name) {\n",
       "    // Handle any extra behaviour associated with a key event\n",
       "};\n",
       "\n",
       "mpl.figure.prototype.key_event = function (event, name) {\n",
       "    // Prevent repeat events\n",
       "    if (name === 'key_press') {\n",
       "        if (event.which === this._key) {\n",
       "            return;\n",
       "        } else {\n",
       "            this._key = event.which;\n",
       "        }\n",
       "    }\n",
       "    if (name === 'key_release') {\n",
       "        this._key = null;\n",
       "    }\n",
       "\n",
       "    var value = '';\n",
       "    if (event.ctrlKey && event.which !== 17) {\n",
       "        value += 'ctrl+';\n",
       "    }\n",
       "    if (event.altKey && event.which !== 18) {\n",
       "        value += 'alt+';\n",
       "    }\n",
       "    if (event.shiftKey && event.which !== 16) {\n",
       "        value += 'shift+';\n",
       "    }\n",
       "\n",
       "    value += 'k';\n",
       "    value += event.which.toString();\n",
       "\n",
       "    this._key_event_extra(event, name);\n",
       "\n",
       "    this.send_message(name, { key: value, guiEvent: simpleKeys(event) });\n",
       "    return false;\n",
       "};\n",
       "\n",
       "mpl.figure.prototype.toolbar_button_onclick = function (name) {\n",
       "    if (name === 'download') {\n",
       "        this.handle_save(this, null);\n",
       "    } else {\n",
       "        this.send_message('toolbar_button', { name: name });\n",
       "    }\n",
       "};\n",
       "\n",
       "mpl.figure.prototype.toolbar_button_onmouseover = function (tooltip) {\n",
       "    this.message.textContent = tooltip;\n",
       "};\n",
       "\n",
       "///////////////// REMAINING CONTENT GENERATED BY embed_js.py /////////////////\n",
       "// prettier-ignore\n",
       "var _JSXTOOLS_RESIZE_OBSERVER=function(A){var t,i=new WeakMap,n=new WeakMap,a=new WeakMap,r=new WeakMap,o=new Set;function s(e){if(!(this instanceof s))throw new TypeError(\"Constructor requires 'new' operator\");i.set(this,e)}function h(){throw new TypeError(\"Function is not a constructor\")}function c(e,t,i,n){e=0 in arguments?Number(arguments[0]):0,t=1 in arguments?Number(arguments[1]):0,i=2 in arguments?Number(arguments[2]):0,n=3 in arguments?Number(arguments[3]):0,this.right=(this.x=this.left=e)+(this.width=i),this.bottom=(this.y=this.top=t)+(this.height=n),Object.freeze(this)}function d(){t=requestAnimationFrame(d);var s=new WeakMap,p=new Set;o.forEach((function(t){r.get(t).forEach((function(i){var r=t instanceof window.SVGElement,o=a.get(t),d=r?0:parseFloat(o.paddingTop),f=r?0:parseFloat(o.paddingRight),l=r?0:parseFloat(o.paddingBottom),u=r?0:parseFloat(o.paddingLeft),g=r?0:parseFloat(o.borderTopWidth),m=r?0:parseFloat(o.borderRightWidth),w=r?0:parseFloat(o.borderBottomWidth),b=u+f,F=d+l,v=(r?0:parseFloat(o.borderLeftWidth))+m,W=g+w,y=r?0:t.offsetHeight-W-t.clientHeight,E=r?0:t.offsetWidth-v-t.clientWidth,R=b+v,z=F+W,M=r?t.width:parseFloat(o.width)-R-E,O=r?t.height:parseFloat(o.height)-z-y;if(n.has(t)){var k=n.get(t);if(k[0]===M&&k[1]===O)return}n.set(t,[M,O]);var S=Object.create(h.prototype);S.target=t,S.contentRect=new c(u,d,M,O),s.has(i)||(s.set(i,[]),p.add(i)),s.get(i).push(S)}))})),p.forEach((function(e){i.get(e).call(e,s.get(e),e)}))}return s.prototype.observe=function(i){if(i instanceof window.Element){r.has(i)||(r.set(i,new Set),o.add(i),a.set(i,window.getComputedStyle(i)));var n=r.get(i);n.has(this)||n.add(this),cancelAnimationFrame(t),t=requestAnimationFrame(d)}},s.prototype.unobserve=function(i){if(i instanceof window.Element&&r.has(i)){var n=r.get(i);n.has(this)&&(n.delete(this),n.size||(r.delete(i),o.delete(i))),n.size||r.delete(i),o.size||cancelAnimationFrame(t)}},A.DOMRectReadOnly=c,A.ResizeObserver=s,A.ResizeObserverEntry=h,A}; // eslint-disable-line\n",
       "mpl.toolbar_items = [[\"Home\", \"Reset original view\", \"fa fa-home icon-home\", \"home\"], [\"Back\", \"Back to previous view\", \"fa fa-arrow-left icon-arrow-left\", \"back\"], [\"Forward\", \"Forward to next view\", \"fa fa-arrow-right icon-arrow-right\", \"forward\"], [\"\", \"\", \"\", \"\"], [\"Pan\", \"Left button pans, Right button zooms\\nx/y fixes axis, CTRL fixes aspect\", \"fa fa-arrows icon-move\", \"pan\"], [\"Zoom\", \"Zoom to rectangle\\nx/y fixes axis, CTRL fixes aspect\", \"fa fa-square-o icon-check-empty\", \"zoom\"], [\"\", \"\", \"\", \"\"], [\"Download\", \"Download plot\", \"fa fa-floppy-o icon-save\", \"download\"]];\n",
       "\n",
       "mpl.extensions = [\"eps\", \"jpeg\", \"pdf\", \"png\", \"ps\", \"raw\", \"svg\", \"tif\"];\n",
       "\n",
       "mpl.default_extension = \"png\";/* global mpl */\n",
       "\n",
       "var comm_websocket_adapter = function (comm) {\n",
       "    // Create a \"websocket\"-like object which calls the given IPython comm\n",
       "    // object with the appropriate methods. Currently this is a non binary\n",
       "    // socket, so there is still some room for performance tuning.\n",
       "    var ws = {};\n",
       "\n",
       "    ws.close = function () {\n",
       "        comm.close();\n",
       "    };\n",
       "    ws.send = function (m) {\n",
       "        //console.log('sending', m);\n",
       "        comm.send(m);\n",
       "    };\n",
       "    // Register the callback with on_msg.\n",
       "    comm.on_msg(function (msg) {\n",
       "        //console.log('receiving', msg['content']['data'], msg);\n",
       "        // Pass the mpl event to the overridden (by mpl) onmessage function.\n",
       "        ws.onmessage(msg['content']['data']);\n",
       "    });\n",
       "    return ws;\n",
       "};\n",
       "\n",
       "mpl.mpl_figure_comm = function (comm, msg) {\n",
       "    // This is the function which gets called when the mpl process\n",
       "    // starts-up an IPython Comm through the \"matplotlib\" channel.\n",
       "\n",
       "    var id = msg.content.data.id;\n",
       "    // Get hold of the div created by the display call when the Comm\n",
       "    // socket was opened in Python.\n",
       "    var element = document.getElementById(id);\n",
       "    var ws_proxy = comm_websocket_adapter(comm);\n",
       "\n",
       "    function ondownload(figure, _format) {\n",
       "        window.open(figure.canvas.toDataURL());\n",
       "    }\n",
       "\n",
       "    var fig = new mpl.figure(id, ws_proxy, ondownload, element);\n",
       "\n",
       "    // Call onopen now - mpl needs it, as it is assuming we've passed it a real\n",
       "    // web socket which is closed, not our websocket->open comm proxy.\n",
       "    ws_proxy.onopen();\n",
       "\n",
       "    fig.parent_element = element;\n",
       "    fig.cell_info = mpl.find_output_cell(\"<div id='\" + id + \"'></div>\");\n",
       "    if (!fig.cell_info) {\n",
       "        console.error('Failed to find cell for figure', id, fig);\n",
       "        return;\n",
       "    }\n",
       "    fig.cell_info[0].output_area.element.on(\n",
       "        'cleared',\n",
       "        { fig: fig },\n",
       "        fig._remove_fig_handler\n",
       "    );\n",
       "};\n",
       "\n",
       "mpl.figure.prototype.handle_close = function (fig, msg) {\n",
       "    var width = fig.canvas.width / fig.ratio;\n",
       "    fig.cell_info[0].output_area.element.off(\n",
       "        'cleared',\n",
       "        fig._remove_fig_handler\n",
       "    );\n",
       "    fig.resizeObserverInstance.unobserve(fig.canvas_div);\n",
       "\n",
       "    // Update the output cell to use the data from the current canvas.\n",
       "    fig.push_to_output();\n",
       "    var dataURL = fig.canvas.toDataURL();\n",
       "    // Re-enable the keyboard manager in IPython - without this line, in FF,\n",
       "    // the notebook keyboard shortcuts fail.\n",
       "    IPython.keyboard_manager.enable();\n",
       "    fig.parent_element.innerHTML =\n",
       "        '<img src=\"' + dataURL + '\" width=\"' + width + '\">';\n",
       "    fig.close_ws(fig, msg);\n",
       "};\n",
       "\n",
       "mpl.figure.prototype.close_ws = function (fig, msg) {\n",
       "    fig.send_message('closing', msg);\n",
       "    // fig.ws.close()\n",
       "};\n",
       "\n",
       "mpl.figure.prototype.push_to_output = function (_remove_interactive) {\n",
       "    // Turn the data on the canvas into data in the output cell.\n",
       "    var width = this.canvas.width / this.ratio;\n",
       "    var dataURL = this.canvas.toDataURL();\n",
       "    this.cell_info[1]['text/html'] =\n",
       "        '<img src=\"' + dataURL + '\" width=\"' + width + '\">';\n",
       "};\n",
       "\n",
       "mpl.figure.prototype.updated_canvas_event = function () {\n",
       "    // Tell IPython that the notebook contents must change.\n",
       "    IPython.notebook.set_dirty(true);\n",
       "    this.send_message('ack', {});\n",
       "    var fig = this;\n",
       "    // Wait a second, then push the new image to the DOM so\n",
       "    // that it is saved nicely (might be nice to debounce this).\n",
       "    setTimeout(function () {\n",
       "        fig.push_to_output();\n",
       "    }, 1000);\n",
       "};\n",
       "\n",
       "mpl.figure.prototype._init_toolbar = function () {\n",
       "    var fig = this;\n",
       "\n",
       "    var toolbar = document.createElement('div');\n",
       "    toolbar.classList = 'btn-toolbar';\n",
       "    this.root.appendChild(toolbar);\n",
       "\n",
       "    function on_click_closure(name) {\n",
       "        return function (_event) {\n",
       "            return fig.toolbar_button_onclick(name);\n",
       "        };\n",
       "    }\n",
       "\n",
       "    function on_mouseover_closure(tooltip) {\n",
       "        return function (event) {\n",
       "            if (!event.currentTarget.disabled) {\n",
       "                return fig.toolbar_button_onmouseover(tooltip);\n",
       "            }\n",
       "        };\n",
       "    }\n",
       "\n",
       "    fig.buttons = {};\n",
       "    var buttonGroup = document.createElement('div');\n",
       "    buttonGroup.classList = 'btn-group';\n",
       "    var button;\n",
       "    for (var toolbar_ind in mpl.toolbar_items) {\n",
       "        var name = mpl.toolbar_items[toolbar_ind][0];\n",
       "        var tooltip = mpl.toolbar_items[toolbar_ind][1];\n",
       "        var image = mpl.toolbar_items[toolbar_ind][2];\n",
       "        var method_name = mpl.toolbar_items[toolbar_ind][3];\n",
       "\n",
       "        if (!name) {\n",
       "            /* Instead of a spacer, we start a new button group. */\n",
       "            if (buttonGroup.hasChildNodes()) {\n",
       "                toolbar.appendChild(buttonGroup);\n",
       "            }\n",
       "            buttonGroup = document.createElement('div');\n",
       "            buttonGroup.classList = 'btn-group';\n",
       "            continue;\n",
       "        }\n",
       "\n",
       "        button = fig.buttons[name] = document.createElement('button');\n",
       "        button.classList = 'btn btn-default';\n",
       "        button.href = '#';\n",
       "        button.title = name;\n",
       "        button.innerHTML = '<i class=\"fa ' + image + ' fa-lg\"></i>';\n",
       "        button.addEventListener('click', on_click_closure(method_name));\n",
       "        button.addEventListener('mouseover', on_mouseover_closure(tooltip));\n",
       "        buttonGroup.appendChild(button);\n",
       "    }\n",
       "\n",
       "    if (buttonGroup.hasChildNodes()) {\n",
       "        toolbar.appendChild(buttonGroup);\n",
       "    }\n",
       "\n",
       "    // Add the status bar.\n",
       "    var status_bar = document.createElement('span');\n",
       "    status_bar.classList = 'mpl-message pull-right';\n",
       "    toolbar.appendChild(status_bar);\n",
       "    this.message = status_bar;\n",
       "\n",
       "    // Add the close button to the window.\n",
       "    var buttongrp = document.createElement('div');\n",
       "    buttongrp.classList = 'btn-group inline pull-right';\n",
       "    button = document.createElement('button');\n",
       "    button.classList = 'btn btn-mini btn-primary';\n",
       "    button.href = '#';\n",
       "    button.title = 'Stop Interaction';\n",
       "    button.innerHTML = '<i class=\"fa fa-power-off icon-remove icon-large\"></i>';\n",
       "    button.addEventListener('click', function (_evt) {\n",
       "        fig.handle_close(fig, {});\n",
       "    });\n",
       "    button.addEventListener(\n",
       "        'mouseover',\n",
       "        on_mouseover_closure('Stop Interaction')\n",
       "    );\n",
       "    buttongrp.appendChild(button);\n",
       "    var titlebar = this.root.querySelector('.ui-dialog-titlebar');\n",
       "    titlebar.insertBefore(buttongrp, titlebar.firstChild);\n",
       "};\n",
       "\n",
       "mpl.figure.prototype._remove_fig_handler = function (event) {\n",
       "    var fig = event.data.fig;\n",
       "    if (event.target !== this) {\n",
       "        // Ignore bubbled events from children.\n",
       "        return;\n",
       "    }\n",
       "    fig.close_ws(fig, {});\n",
       "};\n",
       "\n",
       "mpl.figure.prototype._root_extra_style = function (el) {\n",
       "    el.style.boxSizing = 'content-box'; // override notebook setting of border-box.\n",
       "};\n",
       "\n",
       "mpl.figure.prototype._canvas_extra_style = function (el) {\n",
       "    // this is important to make the div 'focusable\n",
       "    el.setAttribute('tabindex', 0);\n",
       "    // reach out to IPython and tell the keyboard manager to turn it's self\n",
       "    // off when our div gets focus\n",
       "\n",
       "    // location in version 3\n",
       "    if (IPython.notebook.keyboard_manager) {\n",
       "        IPython.notebook.keyboard_manager.register_events(el);\n",
       "    } else {\n",
       "        // location in version 2\n",
       "        IPython.keyboard_manager.register_events(el);\n",
       "    }\n",
       "};\n",
       "\n",
       "mpl.figure.prototype._key_event_extra = function (event, _name) {\n",
       "    var manager = IPython.notebook.keyboard_manager;\n",
       "    if (!manager) {\n",
       "        manager = IPython.keyboard_manager;\n",
       "    }\n",
       "\n",
       "    // Check for shift+enter\n",
       "    if (event.shiftKey && event.which === 13) {\n",
       "        this.canvas_div.blur();\n",
       "        // select the cell after this one\n",
       "        var index = IPython.notebook.find_cell_index(this.cell_info[0]);\n",
       "        IPython.notebook.select(index + 1);\n",
       "    }\n",
       "};\n",
       "\n",
       "mpl.figure.prototype.handle_save = function (fig, _msg) {\n",
       "    fig.ondownload(fig, null);\n",
       "};\n",
       "\n",
       "mpl.find_output_cell = function (html_output) {\n",
       "    // Return the cell and output element which can be found *uniquely* in the notebook.\n",
       "    // Note - this is a bit hacky, but it is done because the \"notebook_saving.Notebook\"\n",
       "    // IPython event is triggered only after the cells have been serialised, which for\n",
       "    // our purposes (turning an active figure into a static one), is too late.\n",
       "    var cells = IPython.notebook.get_cells();\n",
       "    var ncells = cells.length;\n",
       "    for (var i = 0; i < ncells; i++) {\n",
       "        var cell = cells[i];\n",
       "        if (cell.cell_type === 'code') {\n",
       "            for (var j = 0; j < cell.output_area.outputs.length; j++) {\n",
       "                var data = cell.output_area.outputs[j];\n",
       "                if (data.data) {\n",
       "                    // IPython >= 3 moved mimebundle to data attribute of output\n",
       "                    data = data.data;\n",
       "                }\n",
       "                if (data['text/html'] === html_output) {\n",
       "                    return [cell, data, j];\n",
       "                }\n",
       "            }\n",
       "        }\n",
       "    }\n",
       "};\n",
       "\n",
       "// Register the function which deals with the matplotlib target/channel.\n",
       "// The kernel may be null if the page has been refreshed.\n",
       "if (IPython.notebook.kernel !== null) {\n",
       "    IPython.notebook.kernel.comm_manager.register_target(\n",
       "        'matplotlib',\n",
       "        mpl.mpl_figure_comm\n",
       "    );\n",
       "}\n"
      ],
      "text/plain": [
       "<IPython.core.display.Javascript object>"
      ]
     },
     "metadata": {},
     "output_type": "display_data"
    },
    {
     "data": {
      "text/html": [
       "<img src=\"data:image/png;base64,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\" width=\"864\">"
      ],
      "text/plain": [
       "<IPython.core.display.HTML object>"
      ]
     },
     "metadata": {},
     "output_type": "display_data"
    },
    {
     "data": {
      "text/plain": [
       "<AxesSubplot:xlabel='Date'>"
      ]
     },
     "execution_count": 226,
     "metadata": {},
     "output_type": "execute_result"
    }
   ],
   "source": [
    "mc['Adj. Close'].plot()"
   ]
  },
  {
   "cell_type": "code",
   "execution_count": 228,
   "metadata": {},
   "outputs": [
    {
     "data": {
      "text/plain": [
       "<AxesSubplot:xlabel='Date'>"
      ]
     },
     "execution_count": 228,
     "metadata": {},
     "output_type": "execute_result"
    }
   ],
   "source": [
    "mc['Adj. Volume'].plot(figsize=(12,4))"
   ]
  },
  {
   "cell_type": "code",
   "execution_count": 229,
   "metadata": {},
   "outputs": [
    {
     "data": {
      "text/plain": [
       "<AxesSubplot:xlabel='Date'>"
      ]
     },
     "execution_count": 229,
     "metadata": {},
     "output_type": "execute_result"
    }
   ],
   "source": [
    "mc['Adj. Close'].plot(xlim=[\"2007\",\"2009\"],ylim=(20,50),c=\"red\")"
   ]
  },
  {
   "cell_type": "code",
   "execution_count": 230,
   "metadata": {},
   "outputs": [],
   "source": [
    "import matplotlib.dates as dates"
   ]
  },
  {
   "cell_type": "code",
   "execution_count": 231,
   "metadata": {},
   "outputs": [],
   "source": [
    "idx = mc.loc[\"2007-01-01\":\"2007-05-01\"].index"
   ]
  },
  {
   "cell_type": "code",
   "execution_count": 232,
   "metadata": {},
   "outputs": [],
   "source": [
    "stock = mc.loc[\"2007-01-01\":\"2007-05-01\"][\"Adj. Close\"]"
   ]
  },
  {
   "cell_type": "code",
   "execution_count": 233,
   "metadata": {},
   "outputs": [
    {
     "data": {
      "text/plain": [
       "Date\n",
       "2007-01-03    31.662754\n",
       "2007-01-04    31.424580\n",
       "2007-01-05    31.424580\n",
       "2007-01-08    31.547276\n",
       "2007-01-09    31.605015\n",
       "                ...    \n",
       "2007-04-25    35.098239\n",
       "2007-04-26    35.531283\n",
       "2007-04-27    35.329196\n",
       "2007-04-30    34.845630\n",
       "2007-05-01    35.466327\n",
       "Name: Adj. Close, Length: 82, dtype: float64"
      ]
     },
     "execution_count": 233,
     "metadata": {},
     "output_type": "execute_result"
    }
   ],
   "source": [
    "stock"
   ]
  },
  {
   "cell_type": "code",
   "execution_count": 234,
   "metadata": {},
   "outputs": [
    {
     "data": {
      "application/javascript": [
       "/* Put everything inside the global mpl namespace */\n",
       "/* global mpl */\n",
       "window.mpl = {};\n",
       "\n",
       "mpl.get_websocket_type = function () {\n",
       "    if (typeof WebSocket !== 'undefined') {\n",
       "        return WebSocket;\n",
       "    } else if (typeof MozWebSocket !== 'undefined') {\n",
       "        return MozWebSocket;\n",
       "    } else {\n",
       "        alert(\n",
       "            'Your browser does not have WebSocket support. ' +\n",
       "                'Please try Chrome, Safari or Firefox ≥ 6. ' +\n",
       "                'Firefox 4 and 5 are also supported but you ' +\n",
       "                'have to enable WebSockets in about:config.'\n",
       "        );\n",
       "    }\n",
       "};\n",
       "\n",
       "mpl.figure = function (figure_id, websocket, ondownload, parent_element) {\n",
       "    this.id = figure_id;\n",
       "\n",
       "    this.ws = websocket;\n",
       "\n",
       "    this.supports_binary = this.ws.binaryType !== undefined;\n",
       "\n",
       "    if (!this.supports_binary) {\n",
       "        var warnings = document.getElementById('mpl-warnings');\n",
       "        if (warnings) {\n",
       "            warnings.style.display = 'block';\n",
       "            warnings.textContent =\n",
       "                'This browser does not support binary websocket messages. ' +\n",
       "                'Performance may be slow.';\n",
       "        }\n",
       "    }\n",
       "\n",
       "    this.imageObj = new Image();\n",
       "\n",
       "    this.context = undefined;\n",
       "    this.message = undefined;\n",
       "    this.canvas = undefined;\n",
       "    this.rubberband_canvas = undefined;\n",
       "    this.rubberband_context = undefined;\n",
       "    this.format_dropdown = undefined;\n",
       "\n",
       "    this.image_mode = 'full';\n",
       "\n",
       "    this.root = document.createElement('div');\n",
       "    this.root.setAttribute('style', 'display: inline-block');\n",
       "    this._root_extra_style(this.root);\n",
       "\n",
       "    parent_element.appendChild(this.root);\n",
       "\n",
       "    this._init_header(this);\n",
       "    this._init_canvas(this);\n",
       "    this._init_toolbar(this);\n",
       "\n",
       "    var fig = this;\n",
       "\n",
       "    this.waiting = false;\n",
       "\n",
       "    this.ws.onopen = function () {\n",
       "        fig.send_message('supports_binary', { value: fig.supports_binary });\n",
       "        fig.send_message('send_image_mode', {});\n",
       "        if (fig.ratio !== 1) {\n",
       "            fig.send_message('set_dpi_ratio', { dpi_ratio: fig.ratio });\n",
       "        }\n",
       "        fig.send_message('refresh', {});\n",
       "    };\n",
       "\n",
       "    this.imageObj.onload = function () {\n",
       "        if (fig.image_mode === 'full') {\n",
       "            // Full images could contain transparency (where diff images\n",
       "            // almost always do), so we need to clear the canvas so that\n",
       "            // there is no ghosting.\n",
       "            fig.context.clearRect(0, 0, fig.canvas.width, fig.canvas.height);\n",
       "        }\n",
       "        fig.context.drawImage(fig.imageObj, 0, 0);\n",
       "    };\n",
       "\n",
       "    this.imageObj.onunload = function () {\n",
       "        fig.ws.close();\n",
       "    };\n",
       "\n",
       "    this.ws.onmessage = this._make_on_message_function(this);\n",
       "\n",
       "    this.ondownload = ondownload;\n",
       "};\n",
       "\n",
       "mpl.figure.prototype._init_header = function () {\n",
       "    var titlebar = document.createElement('div');\n",
       "    titlebar.classList =\n",
       "        'ui-dialog-titlebar ui-widget-header ui-corner-all ui-helper-clearfix';\n",
       "    var titletext = document.createElement('div');\n",
       "    titletext.classList = 'ui-dialog-title';\n",
       "    titletext.setAttribute(\n",
       "        'style',\n",
       "        'width: 100%; text-align: center; padding: 3px;'\n",
       "    );\n",
       "    titlebar.appendChild(titletext);\n",
       "    this.root.appendChild(titlebar);\n",
       "    this.header = titletext;\n",
       "};\n",
       "\n",
       "mpl.figure.prototype._canvas_extra_style = function (_canvas_div) {};\n",
       "\n",
       "mpl.figure.prototype._root_extra_style = function (_canvas_div) {};\n",
       "\n",
       "mpl.figure.prototype._init_canvas = function () {\n",
       "    var fig = this;\n",
       "\n",
       "    var canvas_div = (this.canvas_div = document.createElement('div'));\n",
       "    canvas_div.setAttribute(\n",
       "        'style',\n",
       "        'border: 1px solid #ddd;' +\n",
       "            'box-sizing: content-box;' +\n",
       "            'clear: both;' +\n",
       "            'min-height: 1px;' +\n",
       "            'min-width: 1px;' +\n",
       "            'outline: 0;' +\n",
       "            'overflow: hidden;' +\n",
       "            'position: relative;' +\n",
       "            'resize: both;'\n",
       "    );\n",
       "\n",
       "    function on_keyboard_event_closure(name) {\n",
       "        return function (event) {\n",
       "            return fig.key_event(event, name);\n",
       "        };\n",
       "    }\n",
       "\n",
       "    canvas_div.addEventListener(\n",
       "        'keydown',\n",
       "        on_keyboard_event_closure('key_press')\n",
       "    );\n",
       "    canvas_div.addEventListener(\n",
       "        'keyup',\n",
       "        on_keyboard_event_closure('key_release')\n",
       "    );\n",
       "\n",
       "    this._canvas_extra_style(canvas_div);\n",
       "    this.root.appendChild(canvas_div);\n",
       "\n",
       "    var canvas = (this.canvas = document.createElement('canvas'));\n",
       "    canvas.classList.add('mpl-canvas');\n",
       "    canvas.setAttribute('style', 'box-sizing: content-box;');\n",
       "\n",
       "    this.context = canvas.getContext('2d');\n",
       "\n",
       "    var backingStore =\n",
       "        this.context.backingStorePixelRatio ||\n",
       "        this.context.webkitBackingStorePixelRatio ||\n",
       "        this.context.mozBackingStorePixelRatio ||\n",
       "        this.context.msBackingStorePixelRatio ||\n",
       "        this.context.oBackingStorePixelRatio ||\n",
       "        this.context.backingStorePixelRatio ||\n",
       "        1;\n",
       "\n",
       "    this.ratio = (window.devicePixelRatio || 1) / backingStore;\n",
       "    if (this.ratio !== 1) {\n",
       "        fig.send_message('set_dpi_ratio', { dpi_ratio: this.ratio });\n",
       "    }\n",
       "\n",
       "    var rubberband_canvas = (this.rubberband_canvas = document.createElement(\n",
       "        'canvas'\n",
       "    ));\n",
       "    rubberband_canvas.setAttribute(\n",
       "        'style',\n",
       "        'box-sizing: content-box; position: absolute; left: 0; top: 0; z-index: 1;'\n",
       "    );\n",
       "\n",
       "    // Apply a ponyfill if ResizeObserver is not implemented by browser.\n",
       "    if (this.ResizeObserver === undefined) {\n",
       "        if (window.ResizeObserver !== undefined) {\n",
       "            this.ResizeObserver = window.ResizeObserver;\n",
       "        } else {\n",
       "            var obs = _JSXTOOLS_RESIZE_OBSERVER({});\n",
       "            this.ResizeObserver = obs.ResizeObserver;\n",
       "        }\n",
       "    }\n",
       "\n",
       "    this.resizeObserverInstance = new this.ResizeObserver(function (entries) {\n",
       "        var nentries = entries.length;\n",
       "        for (var i = 0; i < nentries; i++) {\n",
       "            var entry = entries[i];\n",
       "            var width, height;\n",
       "            if (entry.contentBoxSize) {\n",
       "                if (entry.contentBoxSize instanceof Array) {\n",
       "                    // Chrome 84 implements new version of spec.\n",
       "                    width = entry.contentBoxSize[0].inlineSize;\n",
       "                    height = entry.contentBoxSize[0].blockSize;\n",
       "                } else {\n",
       "                    // Firefox implements old version of spec.\n",
       "                    width = entry.contentBoxSize.inlineSize;\n",
       "                    height = entry.contentBoxSize.blockSize;\n",
       "                }\n",
       "            } else {\n",
       "                // Chrome <84 implements even older version of spec.\n",
       "                width = entry.contentRect.width;\n",
       "                height = entry.contentRect.height;\n",
       "            }\n",
       "\n",
       "            // Keep the size of the canvas and rubber band canvas in sync with\n",
       "            // the canvas container.\n",
       "            if (entry.devicePixelContentBoxSize) {\n",
       "                // Chrome 84 implements new version of spec.\n",
       "                canvas.setAttribute(\n",
       "                    'width',\n",
       "                    entry.devicePixelContentBoxSize[0].inlineSize\n",
       "                );\n",
       "                canvas.setAttribute(\n",
       "                    'height',\n",
       "                    entry.devicePixelContentBoxSize[0].blockSize\n",
       "                );\n",
       "            } else {\n",
       "                canvas.setAttribute('width', width * fig.ratio);\n",
       "                canvas.setAttribute('height', height * fig.ratio);\n",
       "            }\n",
       "            canvas.setAttribute(\n",
       "                'style',\n",
       "                'width: ' + width + 'px; height: ' + height + 'px;'\n",
       "            );\n",
       "\n",
       "            rubberband_canvas.setAttribute('width', width);\n",
       "            rubberband_canvas.setAttribute('height', height);\n",
       "\n",
       "            // And update the size in Python. We ignore the initial 0/0 size\n",
       "            // that occurs as the element is placed into the DOM, which should\n",
       "            // otherwise not happen due to the minimum size styling.\n",
       "            if (width != 0 && height != 0) {\n",
       "                fig.request_resize(width, height);\n",
       "            }\n",
       "        }\n",
       "    });\n",
       "    this.resizeObserverInstance.observe(canvas_div);\n",
       "\n",
       "    function on_mouse_event_closure(name) {\n",
       "        return function (event) {\n",
       "            return fig.mouse_event(event, name);\n",
       "        };\n",
       "    }\n",
       "\n",
       "    rubberband_canvas.addEventListener(\n",
       "        'mousedown',\n",
       "        on_mouse_event_closure('button_press')\n",
       "    );\n",
       "    rubberband_canvas.addEventListener(\n",
       "        'mouseup',\n",
       "        on_mouse_event_closure('button_release')\n",
       "    );\n",
       "    // Throttle sequential mouse events to 1 every 20ms.\n",
       "    rubberband_canvas.addEventListener(\n",
       "        'mousemove',\n",
       "        on_mouse_event_closure('motion_notify')\n",
       "    );\n",
       "\n",
       "    rubberband_canvas.addEventListener(\n",
       "        'mouseenter',\n",
       "        on_mouse_event_closure('figure_enter')\n",
       "    );\n",
       "    rubberband_canvas.addEventListener(\n",
       "        'mouseleave',\n",
       "        on_mouse_event_closure('figure_leave')\n",
       "    );\n",
       "\n",
       "    canvas_div.addEventListener('wheel', function (event) {\n",
       "        if (event.deltaY < 0) {\n",
       "            event.step = 1;\n",
       "        } else {\n",
       "            event.step = -1;\n",
       "        }\n",
       "        on_mouse_event_closure('scroll')(event);\n",
       "    });\n",
       "\n",
       "    canvas_div.appendChild(canvas);\n",
       "    canvas_div.appendChild(rubberband_canvas);\n",
       "\n",
       "    this.rubberband_context = rubberband_canvas.getContext('2d');\n",
       "    this.rubberband_context.strokeStyle = '#000000';\n",
       "\n",
       "    this._resize_canvas = function (width, height, forward) {\n",
       "        if (forward) {\n",
       "            canvas_div.style.width = width + 'px';\n",
       "            canvas_div.style.height = height + 'px';\n",
       "        }\n",
       "    };\n",
       "\n",
       "    // Disable right mouse context menu.\n",
       "    this.rubberband_canvas.addEventListener('contextmenu', function (_e) {\n",
       "        event.preventDefault();\n",
       "        return false;\n",
       "    });\n",
       "\n",
       "    function set_focus() {\n",
       "        canvas.focus();\n",
       "        canvas_div.focus();\n",
       "    }\n",
       "\n",
       "    window.setTimeout(set_focus, 100);\n",
       "};\n",
       "\n",
       "mpl.figure.prototype._init_toolbar = function () {\n",
       "    var fig = this;\n",
       "\n",
       "    var toolbar = document.createElement('div');\n",
       "    toolbar.classList = 'mpl-toolbar';\n",
       "    this.root.appendChild(toolbar);\n",
       "\n",
       "    function on_click_closure(name) {\n",
       "        return function (_event) {\n",
       "            return fig.toolbar_button_onclick(name);\n",
       "        };\n",
       "    }\n",
       "\n",
       "    function on_mouseover_closure(tooltip) {\n",
       "        return function (event) {\n",
       "            if (!event.currentTarget.disabled) {\n",
       "                return fig.toolbar_button_onmouseover(tooltip);\n",
       "            }\n",
       "        };\n",
       "    }\n",
       "\n",
       "    fig.buttons = {};\n",
       "    var buttonGroup = document.createElement('div');\n",
       "    buttonGroup.classList = 'mpl-button-group';\n",
       "    for (var toolbar_ind in mpl.toolbar_items) {\n",
       "        var name = mpl.toolbar_items[toolbar_ind][0];\n",
       "        var tooltip = mpl.toolbar_items[toolbar_ind][1];\n",
       "        var image = mpl.toolbar_items[toolbar_ind][2];\n",
       "        var method_name = mpl.toolbar_items[toolbar_ind][3];\n",
       "\n",
       "        if (!name) {\n",
       "            /* Instead of a spacer, we start a new button group. */\n",
       "            if (buttonGroup.hasChildNodes()) {\n",
       "                toolbar.appendChild(buttonGroup);\n",
       "            }\n",
       "            buttonGroup = document.createElement('div');\n",
       "            buttonGroup.classList = 'mpl-button-group';\n",
       "            continue;\n",
       "        }\n",
       "\n",
       "        var button = (fig.buttons[name] = document.createElement('button'));\n",
       "        button.classList = 'mpl-widget';\n",
       "        button.setAttribute('role', 'button');\n",
       "        button.setAttribute('aria-disabled', 'false');\n",
       "        button.addEventListener('click', on_click_closure(method_name));\n",
       "        button.addEventListener('mouseover', on_mouseover_closure(tooltip));\n",
       "\n",
       "        var icon_img = document.createElement('img');\n",
       "        icon_img.src = '_images/' + image + '.png';\n",
       "        icon_img.srcset = '_images/' + image + '_large.png 2x';\n",
       "        icon_img.alt = tooltip;\n",
       "        button.appendChild(icon_img);\n",
       "\n",
       "        buttonGroup.appendChild(button);\n",
       "    }\n",
       "\n",
       "    if (buttonGroup.hasChildNodes()) {\n",
       "        toolbar.appendChild(buttonGroup);\n",
       "    }\n",
       "\n",
       "    var fmt_picker = document.createElement('select');\n",
       "    fmt_picker.classList = 'mpl-widget';\n",
       "    toolbar.appendChild(fmt_picker);\n",
       "    this.format_dropdown = fmt_picker;\n",
       "\n",
       "    for (var ind in mpl.extensions) {\n",
       "        var fmt = mpl.extensions[ind];\n",
       "        var option = document.createElement('option');\n",
       "        option.selected = fmt === mpl.default_extension;\n",
       "        option.innerHTML = fmt;\n",
       "        fmt_picker.appendChild(option);\n",
       "    }\n",
       "\n",
       "    var status_bar = document.createElement('span');\n",
       "    status_bar.classList = 'mpl-message';\n",
       "    toolbar.appendChild(status_bar);\n",
       "    this.message = status_bar;\n",
       "};\n",
       "\n",
       "mpl.figure.prototype.request_resize = function (x_pixels, y_pixels) {\n",
       "    // Request matplotlib to resize the figure. Matplotlib will then trigger a resize in the client,\n",
       "    // which will in turn request a refresh of the image.\n",
       "    this.send_message('resize', { width: x_pixels, height: y_pixels });\n",
       "};\n",
       "\n",
       "mpl.figure.prototype.send_message = function (type, properties) {\n",
       "    properties['type'] = type;\n",
       "    properties['figure_id'] = this.id;\n",
       "    this.ws.send(JSON.stringify(properties));\n",
       "};\n",
       "\n",
       "mpl.figure.prototype.send_draw_message = function () {\n",
       "    if (!this.waiting) {\n",
       "        this.waiting = true;\n",
       "        this.ws.send(JSON.stringify({ type: 'draw', figure_id: this.id }));\n",
       "    }\n",
       "};\n",
       "\n",
       "mpl.figure.prototype.handle_save = function (fig, _msg) {\n",
       "    var format_dropdown = fig.format_dropdown;\n",
       "    var format = format_dropdown.options[format_dropdown.selectedIndex].value;\n",
       "    fig.ondownload(fig, format);\n",
       "};\n",
       "\n",
       "mpl.figure.prototype.handle_resize = function (fig, msg) {\n",
       "    var size = msg['size'];\n",
       "    if (size[0] !== fig.canvas.width || size[1] !== fig.canvas.height) {\n",
       "        fig._resize_canvas(size[0], size[1], msg['forward']);\n",
       "        fig.send_message('refresh', {});\n",
       "    }\n",
       "};\n",
       "\n",
       "mpl.figure.prototype.handle_rubberband = function (fig, msg) {\n",
       "    var x0 = msg['x0'] / fig.ratio;\n",
       "    var y0 = (fig.canvas.height - msg['y0']) / fig.ratio;\n",
       "    var x1 = msg['x1'] / fig.ratio;\n",
       "    var y1 = (fig.canvas.height - msg['y1']) / fig.ratio;\n",
       "    x0 = Math.floor(x0) + 0.5;\n",
       "    y0 = Math.floor(y0) + 0.5;\n",
       "    x1 = Math.floor(x1) + 0.5;\n",
       "    y1 = Math.floor(y1) + 0.5;\n",
       "    var min_x = Math.min(x0, x1);\n",
       "    var min_y = Math.min(y0, y1);\n",
       "    var width = Math.abs(x1 - x0);\n",
       "    var height = Math.abs(y1 - y0);\n",
       "\n",
       "    fig.rubberband_context.clearRect(\n",
       "        0,\n",
       "        0,\n",
       "        fig.canvas.width / fig.ratio,\n",
       "        fig.canvas.height / fig.ratio\n",
       "    );\n",
       "\n",
       "    fig.rubberband_context.strokeRect(min_x, min_y, width, height);\n",
       "};\n",
       "\n",
       "mpl.figure.prototype.handle_figure_label = function (fig, msg) {\n",
       "    // Updates the figure title.\n",
       "    fig.header.textContent = msg['label'];\n",
       "};\n",
       "\n",
       "mpl.figure.prototype.handle_cursor = function (fig, msg) {\n",
       "    var cursor = msg['cursor'];\n",
       "    switch (cursor) {\n",
       "        case 0:\n",
       "            cursor = 'pointer';\n",
       "            break;\n",
       "        case 1:\n",
       "            cursor = 'default';\n",
       "            break;\n",
       "        case 2:\n",
       "            cursor = 'crosshair';\n",
       "            break;\n",
       "        case 3:\n",
       "            cursor = 'move';\n",
       "            break;\n",
       "    }\n",
       "    fig.rubberband_canvas.style.cursor = cursor;\n",
       "};\n",
       "\n",
       "mpl.figure.prototype.handle_message = function (fig, msg) {\n",
       "    fig.message.textContent = msg['message'];\n",
       "};\n",
       "\n",
       "mpl.figure.prototype.handle_draw = function (fig, _msg) {\n",
       "    // Request the server to send over a new figure.\n",
       "    fig.send_draw_message();\n",
       "};\n",
       "\n",
       "mpl.figure.prototype.handle_image_mode = function (fig, msg) {\n",
       "    fig.image_mode = msg['mode'];\n",
       "};\n",
       "\n",
       "mpl.figure.prototype.handle_history_buttons = function (fig, msg) {\n",
       "    for (var key in msg) {\n",
       "        if (!(key in fig.buttons)) {\n",
       "            continue;\n",
       "        }\n",
       "        fig.buttons[key].disabled = !msg[key];\n",
       "        fig.buttons[key].setAttribute('aria-disabled', !msg[key]);\n",
       "    }\n",
       "};\n",
       "\n",
       "mpl.figure.prototype.handle_navigate_mode = function (fig, msg) {\n",
       "    if (msg['mode'] === 'PAN') {\n",
       "        fig.buttons['Pan'].classList.add('active');\n",
       "        fig.buttons['Zoom'].classList.remove('active');\n",
       "    } else if (msg['mode'] === 'ZOOM') {\n",
       "        fig.buttons['Pan'].classList.remove('active');\n",
       "        fig.buttons['Zoom'].classList.add('active');\n",
       "    } else {\n",
       "        fig.buttons['Pan'].classList.remove('active');\n",
       "        fig.buttons['Zoom'].classList.remove('active');\n",
       "    }\n",
       "};\n",
       "\n",
       "mpl.figure.prototype.updated_canvas_event = function () {\n",
       "    // Called whenever the canvas gets updated.\n",
       "    this.send_message('ack', {});\n",
       "};\n",
       "\n",
       "// A function to construct a web socket function for onmessage handling.\n",
       "// Called in the figure constructor.\n",
       "mpl.figure.prototype._make_on_message_function = function (fig) {\n",
       "    return function socket_on_message(evt) {\n",
       "        if (evt.data instanceof Blob) {\n",
       "            /* FIXME: We get \"Resource interpreted as Image but\n",
       "             * transferred with MIME type text/plain:\" errors on\n",
       "             * Chrome.  But how to set the MIME type?  It doesn't seem\n",
       "             * to be part of the websocket stream */\n",
       "            evt.data.type = 'image/png';\n",
       "\n",
       "            /* Free the memory for the previous frames */\n",
       "            if (fig.imageObj.src) {\n",
       "                (window.URL || window.webkitURL).revokeObjectURL(\n",
       "                    fig.imageObj.src\n",
       "                );\n",
       "            }\n",
       "\n",
       "            fig.imageObj.src = (window.URL || window.webkitURL).createObjectURL(\n",
       "                evt.data\n",
       "            );\n",
       "            fig.updated_canvas_event();\n",
       "            fig.waiting = false;\n",
       "            return;\n",
       "        } else if (\n",
       "            typeof evt.data === 'string' &&\n",
       "            evt.data.slice(0, 21) === 'data:image/png;base64'\n",
       "        ) {\n",
       "            fig.imageObj.src = evt.data;\n",
       "            fig.updated_canvas_event();\n",
       "            fig.waiting = false;\n",
       "            return;\n",
       "        }\n",
       "\n",
       "        var msg = JSON.parse(evt.data);\n",
       "        var msg_type = msg['type'];\n",
       "\n",
       "        // Call the  \"handle_{type}\" callback, which takes\n",
       "        // the figure and JSON message as its only arguments.\n",
       "        try {\n",
       "            var callback = fig['handle_' + msg_type];\n",
       "        } catch (e) {\n",
       "            console.log(\n",
       "                \"No handler for the '\" + msg_type + \"' message type: \",\n",
       "                msg\n",
       "            );\n",
       "            return;\n",
       "        }\n",
       "\n",
       "        if (callback) {\n",
       "            try {\n",
       "                // console.log(\"Handling '\" + msg_type + \"' message: \", msg);\n",
       "                callback(fig, msg);\n",
       "            } catch (e) {\n",
       "                console.log(\n",
       "                    \"Exception inside the 'handler_\" + msg_type + \"' callback:\",\n",
       "                    e,\n",
       "                    e.stack,\n",
       "                    msg\n",
       "                );\n",
       "            }\n",
       "        }\n",
       "    };\n",
       "};\n",
       "\n",
       "// from http://stackoverflow.com/questions/1114465/getting-mouse-location-in-canvas\n",
       "mpl.findpos = function (e) {\n",
       "    //this section is from http://www.quirksmode.org/js/events_properties.html\n",
       "    var targ;\n",
       "    if (!e) {\n",
       "        e = window.event;\n",
       "    }\n",
       "    if (e.target) {\n",
       "        targ = e.target;\n",
       "    } else if (e.srcElement) {\n",
       "        targ = e.srcElement;\n",
       "    }\n",
       "    if (targ.nodeType === 3) {\n",
       "        // defeat Safari bug\n",
       "        targ = targ.parentNode;\n",
       "    }\n",
       "\n",
       "    // pageX,Y are the mouse positions relative to the document\n",
       "    var boundingRect = targ.getBoundingClientRect();\n",
       "    var x = e.pageX - (boundingRect.left + document.body.scrollLeft);\n",
       "    var y = e.pageY - (boundingRect.top + document.body.scrollTop);\n",
       "\n",
       "    return { x: x, y: y };\n",
       "};\n",
       "\n",
       "/*\n",
       " * return a copy of an object with only non-object keys\n",
       " * we need this to avoid circular references\n",
       " * http://stackoverflow.com/a/24161582/3208463\n",
       " */\n",
       "function simpleKeys(original) {\n",
       "    return Object.keys(original).reduce(function (obj, key) {\n",
       "        if (typeof original[key] !== 'object') {\n",
       "            obj[key] = original[key];\n",
       "        }\n",
       "        return obj;\n",
       "    }, {});\n",
       "}\n",
       "\n",
       "mpl.figure.prototype.mouse_event = function (event, name) {\n",
       "    var canvas_pos = mpl.findpos(event);\n",
       "\n",
       "    if (name === 'button_press') {\n",
       "        this.canvas.focus();\n",
       "        this.canvas_div.focus();\n",
       "    }\n",
       "\n",
       "    var x = canvas_pos.x * this.ratio;\n",
       "    var y = canvas_pos.y * this.ratio;\n",
       "\n",
       "    this.send_message(name, {\n",
       "        x: x,\n",
       "        y: y,\n",
       "        button: event.button,\n",
       "        step: event.step,\n",
       "        guiEvent: simpleKeys(event),\n",
       "    });\n",
       "\n",
       "    /* This prevents the web browser from automatically changing to\n",
       "     * the text insertion cursor when the button is pressed.  We want\n",
       "     * to control all of the cursor setting manually through the\n",
       "     * 'cursor' event from matplotlib */\n",
       "    event.preventDefault();\n",
       "    return false;\n",
       "};\n",
       "\n",
       "mpl.figure.prototype._key_event_extra = function (_event, _name) {\n",
       "    // Handle any extra behaviour associated with a key event\n",
       "};\n",
       "\n",
       "mpl.figure.prototype.key_event = function (event, name) {\n",
       "    // Prevent repeat events\n",
       "    if (name === 'key_press') {\n",
       "        if (event.which === this._key) {\n",
       "            return;\n",
       "        } else {\n",
       "            this._key = event.which;\n",
       "        }\n",
       "    }\n",
       "    if (name === 'key_release') {\n",
       "        this._key = null;\n",
       "    }\n",
       "\n",
       "    var value = '';\n",
       "    if (event.ctrlKey && event.which !== 17) {\n",
       "        value += 'ctrl+';\n",
       "    }\n",
       "    if (event.altKey && event.which !== 18) {\n",
       "        value += 'alt+';\n",
       "    }\n",
       "    if (event.shiftKey && event.which !== 16) {\n",
       "        value += 'shift+';\n",
       "    }\n",
       "\n",
       "    value += 'k';\n",
       "    value += event.which.toString();\n",
       "\n",
       "    this._key_event_extra(event, name);\n",
       "\n",
       "    this.send_message(name, { key: value, guiEvent: simpleKeys(event) });\n",
       "    return false;\n",
       "};\n",
       "\n",
       "mpl.figure.prototype.toolbar_button_onclick = function (name) {\n",
       "    if (name === 'download') {\n",
       "        this.handle_save(this, null);\n",
       "    } else {\n",
       "        this.send_message('toolbar_button', { name: name });\n",
       "    }\n",
       "};\n",
       "\n",
       "mpl.figure.prototype.toolbar_button_onmouseover = function (tooltip) {\n",
       "    this.message.textContent = tooltip;\n",
       "};\n",
       "\n",
       "///////////////// REMAINING CONTENT GENERATED BY embed_js.py /////////////////\n",
       "// prettier-ignore\n",
       "var _JSXTOOLS_RESIZE_OBSERVER=function(A){var t,i=new WeakMap,n=new WeakMap,a=new WeakMap,r=new WeakMap,o=new Set;function s(e){if(!(this instanceof s))throw new TypeError(\"Constructor requires 'new' operator\");i.set(this,e)}function h(){throw new TypeError(\"Function is not a constructor\")}function c(e,t,i,n){e=0 in arguments?Number(arguments[0]):0,t=1 in arguments?Number(arguments[1]):0,i=2 in arguments?Number(arguments[2]):0,n=3 in arguments?Number(arguments[3]):0,this.right=(this.x=this.left=e)+(this.width=i),this.bottom=(this.y=this.top=t)+(this.height=n),Object.freeze(this)}function d(){t=requestAnimationFrame(d);var s=new WeakMap,p=new Set;o.forEach((function(t){r.get(t).forEach((function(i){var r=t instanceof window.SVGElement,o=a.get(t),d=r?0:parseFloat(o.paddingTop),f=r?0:parseFloat(o.paddingRight),l=r?0:parseFloat(o.paddingBottom),u=r?0:parseFloat(o.paddingLeft),g=r?0:parseFloat(o.borderTopWidth),m=r?0:parseFloat(o.borderRightWidth),w=r?0:parseFloat(o.borderBottomWidth),b=u+f,F=d+l,v=(r?0:parseFloat(o.borderLeftWidth))+m,W=g+w,y=r?0:t.offsetHeight-W-t.clientHeight,E=r?0:t.offsetWidth-v-t.clientWidth,R=b+v,z=F+W,M=r?t.width:parseFloat(o.width)-R-E,O=r?t.height:parseFloat(o.height)-z-y;if(n.has(t)){var k=n.get(t);if(k[0]===M&&k[1]===O)return}n.set(t,[M,O]);var S=Object.create(h.prototype);S.target=t,S.contentRect=new c(u,d,M,O),s.has(i)||(s.set(i,[]),p.add(i)),s.get(i).push(S)}))})),p.forEach((function(e){i.get(e).call(e,s.get(e),e)}))}return s.prototype.observe=function(i){if(i instanceof window.Element){r.has(i)||(r.set(i,new Set),o.add(i),a.set(i,window.getComputedStyle(i)));var n=r.get(i);n.has(this)||n.add(this),cancelAnimationFrame(t),t=requestAnimationFrame(d)}},s.prototype.unobserve=function(i){if(i instanceof window.Element&&r.has(i)){var n=r.get(i);n.has(this)&&(n.delete(this),n.size||(r.delete(i),o.delete(i))),n.size||r.delete(i),o.size||cancelAnimationFrame(t)}},A.DOMRectReadOnly=c,A.ResizeObserver=s,A.ResizeObserverEntry=h,A}; // eslint-disable-line\n",
       "mpl.toolbar_items = [[\"Home\", \"Reset original view\", \"fa fa-home icon-home\", \"home\"], [\"Back\", \"Back to previous view\", \"fa fa-arrow-left icon-arrow-left\", \"back\"], [\"Forward\", \"Forward to next view\", \"fa fa-arrow-right icon-arrow-right\", \"forward\"], [\"\", \"\", \"\", \"\"], [\"Pan\", \"Left button pans, Right button zooms\\nx/y fixes axis, CTRL fixes aspect\", \"fa fa-arrows icon-move\", \"pan\"], [\"Zoom\", \"Zoom to rectangle\\nx/y fixes axis, CTRL fixes aspect\", \"fa fa-square-o icon-check-empty\", \"zoom\"], [\"\", \"\", \"\", \"\"], [\"Download\", \"Download plot\", \"fa fa-floppy-o icon-save\", \"download\"]];\n",
       "\n",
       "mpl.extensions = [\"eps\", \"jpeg\", \"pdf\", \"png\", \"ps\", \"raw\", \"svg\", \"tif\"];\n",
       "\n",
       "mpl.default_extension = \"png\";/* global mpl */\n",
       "\n",
       "var comm_websocket_adapter = function (comm) {\n",
       "    // Create a \"websocket\"-like object which calls the given IPython comm\n",
       "    // object with the appropriate methods. Currently this is a non binary\n",
       "    // socket, so there is still some room for performance tuning.\n",
       "    var ws = {};\n",
       "\n",
       "    ws.close = function () {\n",
       "        comm.close();\n",
       "    };\n",
       "    ws.send = function (m) {\n",
       "        //console.log('sending', m);\n",
       "        comm.send(m);\n",
       "    };\n",
       "    // Register the callback with on_msg.\n",
       "    comm.on_msg(function (msg) {\n",
       "        //console.log('receiving', msg['content']['data'], msg);\n",
       "        // Pass the mpl event to the overridden (by mpl) onmessage function.\n",
       "        ws.onmessage(msg['content']['data']);\n",
       "    });\n",
       "    return ws;\n",
       "};\n",
       "\n",
       "mpl.mpl_figure_comm = function (comm, msg) {\n",
       "    // This is the function which gets called when the mpl process\n",
       "    // starts-up an IPython Comm through the \"matplotlib\" channel.\n",
       "\n",
       "    var id = msg.content.data.id;\n",
       "    // Get hold of the div created by the display call when the Comm\n",
       "    // socket was opened in Python.\n",
       "    var element = document.getElementById(id);\n",
       "    var ws_proxy = comm_websocket_adapter(comm);\n",
       "\n",
       "    function ondownload(figure, _format) {\n",
       "        window.open(figure.canvas.toDataURL());\n",
       "    }\n",
       "\n",
       "    var fig = new mpl.figure(id, ws_proxy, ondownload, element);\n",
       "\n",
       "    // Call onopen now - mpl needs it, as it is assuming we've passed it a real\n",
       "    // web socket which is closed, not our websocket->open comm proxy.\n",
       "    ws_proxy.onopen();\n",
       "\n",
       "    fig.parent_element = element;\n",
       "    fig.cell_info = mpl.find_output_cell(\"<div id='\" + id + \"'></div>\");\n",
       "    if (!fig.cell_info) {\n",
       "        console.error('Failed to find cell for figure', id, fig);\n",
       "        return;\n",
       "    }\n",
       "    fig.cell_info[0].output_area.element.on(\n",
       "        'cleared',\n",
       "        { fig: fig },\n",
       "        fig._remove_fig_handler\n",
       "    );\n",
       "};\n",
       "\n",
       "mpl.figure.prototype.handle_close = function (fig, msg) {\n",
       "    var width = fig.canvas.width / fig.ratio;\n",
       "    fig.cell_info[0].output_area.element.off(\n",
       "        'cleared',\n",
       "        fig._remove_fig_handler\n",
       "    );\n",
       "    fig.resizeObserverInstance.unobserve(fig.canvas_div);\n",
       "\n",
       "    // Update the output cell to use the data from the current canvas.\n",
       "    fig.push_to_output();\n",
       "    var dataURL = fig.canvas.toDataURL();\n",
       "    // Re-enable the keyboard manager in IPython - without this line, in FF,\n",
       "    // the notebook keyboard shortcuts fail.\n",
       "    IPython.keyboard_manager.enable();\n",
       "    fig.parent_element.innerHTML =\n",
       "        '<img src=\"' + dataURL + '\" width=\"' + width + '\">';\n",
       "    fig.close_ws(fig, msg);\n",
       "};\n",
       "\n",
       "mpl.figure.prototype.close_ws = function (fig, msg) {\n",
       "    fig.send_message('closing', msg);\n",
       "    // fig.ws.close()\n",
       "};\n",
       "\n",
       "mpl.figure.prototype.push_to_output = function (_remove_interactive) {\n",
       "    // Turn the data on the canvas into data in the output cell.\n",
       "    var width = this.canvas.width / this.ratio;\n",
       "    var dataURL = this.canvas.toDataURL();\n",
       "    this.cell_info[1]['text/html'] =\n",
       "        '<img src=\"' + dataURL + '\" width=\"' + width + '\">';\n",
       "};\n",
       "\n",
       "mpl.figure.prototype.updated_canvas_event = function () {\n",
       "    // Tell IPython that the notebook contents must change.\n",
       "    IPython.notebook.set_dirty(true);\n",
       "    this.send_message('ack', {});\n",
       "    var fig = this;\n",
       "    // Wait a second, then push the new image to the DOM so\n",
       "    // that it is saved nicely (might be nice to debounce this).\n",
       "    setTimeout(function () {\n",
       "        fig.push_to_output();\n",
       "    }, 1000);\n",
       "};\n",
       "\n",
       "mpl.figure.prototype._init_toolbar = function () {\n",
       "    var fig = this;\n",
       "\n",
       "    var toolbar = document.createElement('div');\n",
       "    toolbar.classList = 'btn-toolbar';\n",
       "    this.root.appendChild(toolbar);\n",
       "\n",
       "    function on_click_closure(name) {\n",
       "        return function (_event) {\n",
       "            return fig.toolbar_button_onclick(name);\n",
       "        };\n",
       "    }\n",
       "\n",
       "    function on_mouseover_closure(tooltip) {\n",
       "        return function (event) {\n",
       "            if (!event.currentTarget.disabled) {\n",
       "                return fig.toolbar_button_onmouseover(tooltip);\n",
       "            }\n",
       "        };\n",
       "    }\n",
       "\n",
       "    fig.buttons = {};\n",
       "    var buttonGroup = document.createElement('div');\n",
       "    buttonGroup.classList = 'btn-group';\n",
       "    var button;\n",
       "    for (var toolbar_ind in mpl.toolbar_items) {\n",
       "        var name = mpl.toolbar_items[toolbar_ind][0];\n",
       "        var tooltip = mpl.toolbar_items[toolbar_ind][1];\n",
       "        var image = mpl.toolbar_items[toolbar_ind][2];\n",
       "        var method_name = mpl.toolbar_items[toolbar_ind][3];\n",
       "\n",
       "        if (!name) {\n",
       "            /* Instead of a spacer, we start a new button group. */\n",
       "            if (buttonGroup.hasChildNodes()) {\n",
       "                toolbar.appendChild(buttonGroup);\n",
       "            }\n",
       "            buttonGroup = document.createElement('div');\n",
       "            buttonGroup.classList = 'btn-group';\n",
       "            continue;\n",
       "        }\n",
       "\n",
       "        button = fig.buttons[name] = document.createElement('button');\n",
       "        button.classList = 'btn btn-default';\n",
       "        button.href = '#';\n",
       "        button.title = name;\n",
       "        button.innerHTML = '<i class=\"fa ' + image + ' fa-lg\"></i>';\n",
       "        button.addEventListener('click', on_click_closure(method_name));\n",
       "        button.addEventListener('mouseover', on_mouseover_closure(tooltip));\n",
       "        buttonGroup.appendChild(button);\n",
       "    }\n",
       "\n",
       "    if (buttonGroup.hasChildNodes()) {\n",
       "        toolbar.appendChild(buttonGroup);\n",
       "    }\n",
       "\n",
       "    // Add the status bar.\n",
       "    var status_bar = document.createElement('span');\n",
       "    status_bar.classList = 'mpl-message pull-right';\n",
       "    toolbar.appendChild(status_bar);\n",
       "    this.message = status_bar;\n",
       "\n",
       "    // Add the close button to the window.\n",
       "    var buttongrp = document.createElement('div');\n",
       "    buttongrp.classList = 'btn-group inline pull-right';\n",
       "    button = document.createElement('button');\n",
       "    button.classList = 'btn btn-mini btn-primary';\n",
       "    button.href = '#';\n",
       "    button.title = 'Stop Interaction';\n",
       "    button.innerHTML = '<i class=\"fa fa-power-off icon-remove icon-large\"></i>';\n",
       "    button.addEventListener('click', function (_evt) {\n",
       "        fig.handle_close(fig, {});\n",
       "    });\n",
       "    button.addEventListener(\n",
       "        'mouseover',\n",
       "        on_mouseover_closure('Stop Interaction')\n",
       "    );\n",
       "    buttongrp.appendChild(button);\n",
       "    var titlebar = this.root.querySelector('.ui-dialog-titlebar');\n",
       "    titlebar.insertBefore(buttongrp, titlebar.firstChild);\n",
       "};\n",
       "\n",
       "mpl.figure.prototype._remove_fig_handler = function (event) {\n",
       "    var fig = event.data.fig;\n",
       "    if (event.target !== this) {\n",
       "        // Ignore bubbled events from children.\n",
       "        return;\n",
       "    }\n",
       "    fig.close_ws(fig, {});\n",
       "};\n",
       "\n",
       "mpl.figure.prototype._root_extra_style = function (el) {\n",
       "    el.style.boxSizing = 'content-box'; // override notebook setting of border-box.\n",
       "};\n",
       "\n",
       "mpl.figure.prototype._canvas_extra_style = function (el) {\n",
       "    // this is important to make the div 'focusable\n",
       "    el.setAttribute('tabindex', 0);\n",
       "    // reach out to IPython and tell the keyboard manager to turn it's self\n",
       "    // off when our div gets focus\n",
       "\n",
       "    // location in version 3\n",
       "    if (IPython.notebook.keyboard_manager) {\n",
       "        IPython.notebook.keyboard_manager.register_events(el);\n",
       "    } else {\n",
       "        // location in version 2\n",
       "        IPython.keyboard_manager.register_events(el);\n",
       "    }\n",
       "};\n",
       "\n",
       "mpl.figure.prototype._key_event_extra = function (event, _name) {\n",
       "    var manager = IPython.notebook.keyboard_manager;\n",
       "    if (!manager) {\n",
       "        manager = IPython.keyboard_manager;\n",
       "    }\n",
       "\n",
       "    // Check for shift+enter\n",
       "    if (event.shiftKey && event.which === 13) {\n",
       "        this.canvas_div.blur();\n",
       "        // select the cell after this one\n",
       "        var index = IPython.notebook.find_cell_index(this.cell_info[0]);\n",
       "        IPython.notebook.select(index + 1);\n",
       "    }\n",
       "};\n",
       "\n",
       "mpl.figure.prototype.handle_save = function (fig, _msg) {\n",
       "    fig.ondownload(fig, null);\n",
       "};\n",
       "\n",
       "mpl.find_output_cell = function (html_output) {\n",
       "    // Return the cell and output element which can be found *uniquely* in the notebook.\n",
       "    // Note - this is a bit hacky, but it is done because the \"notebook_saving.Notebook\"\n",
       "    // IPython event is triggered only after the cells have been serialised, which for\n",
       "    // our purposes (turning an active figure into a static one), is too late.\n",
       "    var cells = IPython.notebook.get_cells();\n",
       "    var ncells = cells.length;\n",
       "    for (var i = 0; i < ncells; i++) {\n",
       "        var cell = cells[i];\n",
       "        if (cell.cell_type === 'code') {\n",
       "            for (var j = 0; j < cell.output_area.outputs.length; j++) {\n",
       "                var data = cell.output_area.outputs[j];\n",
       "                if (data.data) {\n",
       "                    // IPython >= 3 moved mimebundle to data attribute of output\n",
       "                    data = data.data;\n",
       "                }\n",
       "                if (data['text/html'] === html_output) {\n",
       "                    return [cell, data, j];\n",
       "                }\n",
       "            }\n",
       "        }\n",
       "    }\n",
       "};\n",
       "\n",
       "// Register the function which deals with the matplotlib target/channel.\n",
       "// The kernel may be null if the page has been refreshed.\n",
       "if (IPython.notebook.kernel !== null) {\n",
       "    IPython.notebook.kernel.comm_manager.register_target(\n",
       "        'matplotlib',\n",
       "        mpl.mpl_figure_comm\n",
       "    );\n",
       "}\n"
      ],
      "text/plain": [
       "<IPython.core.display.Javascript object>"
      ]
     },
     "metadata": {},
     "output_type": "display_data"
    },
    {
     "data": {
      "text/html": [
       "<img src=\"data:image/png;base64,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\" width=\"432\">"
      ],
      "text/plain": [
       "<IPython.core.display.HTML object>"
      ]
     },
     "metadata": {},
     "output_type": "display_data"
    }
   ],
   "source": [
    "import matplotlib.pyplot as plt\n",
    "fig,ax = plt.subplots()\n",
    "ax.plot_date(idx,stock,\"-\")\n",
    "\n",
    "#ax.yaxis.grid(True)\n",
    "#ax.xaxis.grid(True)\n",
    "\n",
    "#Locating\n",
    "ax.xaxis.set_major_locator(dates.MonthLocator())\n",
    "#Formating\n",
    "ax.yaxis.set_major_formatter(dates.DateFormatter(\"%B%Y\"))\n",
    "\n",
    "ax.xaxis.set_minor_locator(dates.WeekdayLocator())\n",
    "ax.yaxis.set_minor_formatter(dates.DateFormatter(\"%d\"))\n",
    "\n",
    "fig.autofmt_xdate()\n",
    "plt.tight_layout()"
   ]
  },
  {
   "cell_type": "code",
   "execution_count": null,
   "metadata": {},
   "outputs": [],
   "source": []
  },
  {
   "cell_type": "code",
   "execution_count": null,
   "metadata": {},
   "outputs": [],
   "source": []
  },
  {
   "cell_type": "code",
   "execution_count": null,
   "metadata": {},
   "outputs": [],
   "source": []
  },
  {
   "cell_type": "code",
   "execution_count": null,
   "metadata": {},
   "outputs": [],
   "source": []
  },
  {
   "cell_type": "code",
   "execution_count": null,
   "metadata": {},
   "outputs": [],
   "source": []
  },
  {
   "cell_type": "code",
   "execution_count": null,
   "metadata": {},
   "outputs": [],
   "source": []
  },
  {
   "cell_type": "code",
   "execution_count": null,
   "metadata": {},
   "outputs": [],
   "source": []
  },
  {
   "cell_type": "code",
   "execution_count": null,
   "metadata": {},
   "outputs": [],
   "source": []
  }
 ],
 "metadata": {
  "kernelspec": {
   "display_name": "Python 3",
   "language": "python",
   "name": "python3"
  },
  "language_info": {
   "codemirror_mode": {
    "name": "ipython",
    "version": 3
   },
   "file_extension": ".py",
   "mimetype": "text/x-python",
   "name": "python",
   "nbconvert_exporter": "python",
   "pygments_lexer": "ipython3",
   "version": "3.9.1"
  }
 },
 "nbformat": 4,
 "nbformat_minor": 4
}
